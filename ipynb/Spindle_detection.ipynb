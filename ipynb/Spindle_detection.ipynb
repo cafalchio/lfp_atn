{
 "cells": [
  {
   "cell_type": "markdown",
   "id": "44f36115-fd46-4758-be1e-ceb2db1e8101",
   "metadata": {},
   "source": [
    "## **Spindle detection**\n",
    "\n"
   ]
  },
  {
   "cell_type": "code",
   "execution_count": 29,
   "id": "0785ba98-4320-4d09-a718-7b9daf46776a",
   "metadata": {},
   "outputs": [],
   "source": [
    "import sys  \n",
    "sys.path.insert(0, 'D:/Beths/')\n",
    "import os\n",
    "import re\n",
    "import math\n",
    "import pandas as pd\n",
    "import numpy as np\n",
    "import yasa\n",
    "import mne\n",
    "from mne.filter import filter_data, resample\n",
    "import matplotlib.pyplot as plt\n",
    "from scipy import signal\n",
    "\n",
    "## Import from my files\n",
    "from data_lfp import mne_lfp_Axona, load_lfp_Axona\n",
    "from data_pos import RecPos"
   ]
  },
  {
   "cell_type": "code",
   "execution_count": 30,
   "id": "d9d7114f-3ca8-4f5a-9e54-e9f9cb4b56e4",
   "metadata": {},
   "outputs": [],
   "source": [
    "df = pd.read_csv('data_scheme.csv')\n",
    "sleep_files = df.loc[df.sleep == 1, ['folder', 'filename']].agg('/'.join, axis=1).values"
   ]
  },
  {
   "cell_type": "markdown",
   "id": "5d16dc23-1e70-4da1-bb41-06598eaaaf4e",
   "metadata": {},
   "source": [
    "#### Auxiliary functions"
   ]
  },
  {
   "cell_type": "code",
   "execution_count": 31,
   "id": "af5b3fca-4181-4f7c-8bc6-039ddc3d4faf",
   "metadata": {},
   "outputs": [],
   "source": [
    "def mark_moving(file, tresh=2.5): # 1 if speed > tresh\n",
    "    pos = RecPos(file)\n",
    "    speed = pos.get_speed()\n",
    "    moving = np.zeros(len(speed)*5)\n",
    "    for i in range(0, len(speed)): \n",
    "        if speed[i] > tresh:\n",
    "            moving[5*i:5*i+5] = 1\n",
    "    return moving\n",
    "\n",
    "def create_events(record, events):\n",
    "    '''Create events on MNE object\n",
    "    Inputs:\n",
    "        record(mne_object): recording to add events\n",
    "        events_time(2D np array): array 0,1 with same lenght of recording dimension (1, lengt(record))\n",
    "    output: \n",
    "    record(mne_object): Record with events added\n",
    "    '''\n",
    "    try:\n",
    "        assert len(record.times) == events.shape[1]\n",
    "        stim_data = events\n",
    "        info = mne.create_info(['STI'], record1.info['sfreq'], ['stim'])\n",
    "        stim_raw = mne.io.RawArray(stim_data, info)\n",
    "        record.add_channels([stim_raw], force_update_info=True)\n",
    "    except AssertionError as error:\n",
    "        print(error)\n",
    "        print('The lenght of events needs to be equal to record lenght.')\n",
    "    return record\n",
    "\n",
    "def plot_treshold(file):\n",
    "    pos = RecPos(file)\n",
    "    x, y = pos.get_position()\n",
    "    resting = 1-mark_moving(file, tresh=1.) # 1-moving\n",
    "    print(f'Proportion of resting time: {(100 * sum(resting))/len(resting):.1f}%')\n",
    "    fig, (ax, ax1) = plt.subplots(1, 2, figsize=(6,3))\n",
    "    ax.plot(x,y, c= 'black', alpha = .7) # plot background\n",
    "    mx = np.asarray([n*m for n, m in zip(x, resting)])\n",
    "    my = np.asarray([n*m for n, m in zip(y, resting)])\n",
    "    mx[mx==0] = np.nan\n",
    "    my[my==0] = np.nan\n",
    "    ax.scatter(mx,my, c='r', marker='.',alpha = .5) \n",
    "    speed = pos.get_speed()\n",
    "    ax1.hist(speed, bins=np.linspace(0,20))\n",
    "    fig.tight_layout()\n",
    "    return plt.show()"
   ]
  },
  {
   "cell_type": "code",
   "execution_count": 32,
   "id": "f3b83cfa-f00f-43ce-bd14-eb54c119f453",
   "metadata": {},
   "outputs": [],
   "source": [
    "## Selecting files that the animal was not moving for > 20% of the recording\n",
    "true_sleep = []\n",
    "for file in sleep_files:\n",
    "    pos = RecPos(file)\n",
    "    x, y = pos.get_position()\n",
    "    resting = 1-mark_moving(file, tresh=1.) # 1-moving\n",
    "    if (100 * (sum(resting))/len(resting)) > 25:\n",
    "        true_sleep.append(file.strip())\n",
    "true_sleeps = [r.strip().split('/')[-1] for r in true_sleep]"
   ]
  },
  {
   "cell_type": "code",
   "execution_count": 33,
   "id": "9ba53a1c-c796-439e-8471-c309918b1014",
   "metadata": {},
   "outputs": [],
   "source": [
    "sleep_files = df[df.filename.isin(true_sleeps)]"
   ]
  },
  {
   "cell_type": "markdown",
   "id": "64042a72-c45d-47ee-ac2c-fce3700b1fbe",
   "metadata": {},
   "source": [
    "#### **Recordings which animals spent at least 25% of the time resting (speed < 1 cm/s)**"
   ]
  },
  {
   "cell_type": "code",
   "execution_count": 34,
   "id": "c507a282-2017-489f-b449-f4e96ed9339b",
   "metadata": {},
   "outputs": [
    {
     "name": "stdout",
     "output_type": "stream",
     "text": [
      "Number of animals with sleep recordings: 14\n",
      "Number of animals with > 20% resting: 14\n"
     ]
    }
   ],
   "source": [
    "print(f'Number of animals with sleep recordings: {len(df[df.sleep == 1].rat.unique())}')\n",
    "print(f'Number of animals with > 20% resting: {len(sleep_files.rat.unique())}')"
   ]
  },
  {
   "cell_type": "code",
   "execution_count": 44,
   "id": "854253a1-e2ff-466a-9179-a8898c6ca6de",
   "metadata": {},
   "outputs": [
    {
     "data": {
      "image/png": "[encoded data removed]",
      "text/plain": [
       "<Figure size 648x360 with 1 Axes>"
      ]
     },
     "metadata": {
      "needs_background": "light"
     },
     "output_type": "display_data"
    }
   ],
   "source": [
    "ax = sleep_files['rat'].value_counts().plot(kind='bar',\n",
    "                                    figsize=(9,5),\n",
    "                                    title=\"Number of sleep recordings per animal.\")\n",
    "\n",
    "ax.set_xlabel(\"Rat ID\")\n",
    "ax.set_ylabel(\"Frequency of recordings\")\n",
    "plt.show()"
   ]
  },
  {
   "cell_type": "code",
   "execution_count": null,
   "id": "86caa477-e8b6-4a79-9be1-9900ab172786",
   "metadata": {},
   "outputs": [],
   "source": []
  },
  {
   "cell_type": "code",
   "execution_count": null,
   "id": "bdd9cd2e-e087-4828-8944-5f9d07e9249c",
   "metadata": {},
   "outputs": [],
   "source": [
    "reject = dict(grad=4000e-13, mag=4e-12, eog=150e-6)  \n",
    "epochs = mne.Epochs(raw, events, event_id=1, tmin=-0.2, tmax=0.5,  \n",
    "                     proj=True, picks=picks, baseline=(None, 0),  \n",
    "                     preload=True, reject=reject)  "
   ]
  }
 ],
 "metadata": {
  "kernelspec": {
   "display_name": "Python 3",
   "language": "python",
   "name": "python3"
  },
  "language_info": {
   "codemirror_mode": {
    "name": "ipython",
    "version": 3
   },
   "file_extension": ".py",
   "mimetype": "text/x-python",
   "name": "python",
   "nbconvert_exporter": "python",
   "pygments_lexer": "ipython3",
   "version": "3.8.5"
  }
 },
 "nbformat": 4,
 "nbformat_minor": 5
}
