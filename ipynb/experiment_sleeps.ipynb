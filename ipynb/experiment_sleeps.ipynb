{
 "cells": [
  {
   "cell_type": "markdown",
   "metadata": {},
   "source": [
    "# **Processing sleeping data**"
   ]
  },
  {
   "cell_type": "markdown",
   "metadata": {},
   "source": [
    "**1. Combine LFP data from sleeping recordings to the spatial data to account for movement ✔️**\n"
   ]
  },
  {
   "cell_type": "code",
   "execution_count": null,
   "metadata": {},
   "outputs": [],
   "source": [
    "import sys  \n",
    "sys.path.insert(0, 'D:/Beths/')\n",
    "import os\n",
    "import re\n",
    "import math\n",
    "import pandas as pd\n",
    "import numpy as np\n",
    "import yasa\n",
    "import mne\n",
    "from mne.filter import filter_data, resample\n",
    "import matplotlib.pyplot as plt\n",
    "from scipy import signal\n",
    "\n",
    "## Import from my files\n",
    "from data_lfp import mne_lfp_Axona, load_lfp_Axona\n",
    "from data_pos import RecPos"
   ]
  },
  {
   "cell_type": "markdown",
   "metadata": {},
   "source": [
    "### Sleeping recordings\n"
   ]
  },
  {
   "cell_type": "code",
   "execution_count": null,
   "metadata": {},
   "outputs": [],
   "source": [
    "df = pd.read_csv('data_scheme.csv', parse_dates=['date_time'])\n",
    "cols = df.columns\n",
    "df[cols[2:]].loc[df[cols[2:]].sleep == 1]"
   ]
  },
  {
   "cell_type": "code",
   "execution_count": null,
   "metadata": {},
   "outputs": [],
   "source": [
    "sleep = df.loc[df.sleep == 1]\n",
    "ax = sleep['rat'].value_counts().plot(kind='bar',\n",
    "                                    figsize=(9,5),\n",
    "                                    title=\"Number of sleep recordings for each animal.\")\n",
    "ax.set_xlabel(\"Rat ID\")\n",
    "ax.set_ylabel(\"Frequency of recordings\")\n",
    "plt.show()"
   ]
  },
  {
   "cell_type": "code",
   "execution_count": null,
   "metadata": {},
   "outputs": [],
   "source": [
    "sleep = df.loc[df.sleep == 1]\n",
    "ax = sleep['treatment'].value_counts().plot(kind='bar',\n",
    "                                    figsize=(9,5),\n",
    "                                    title=\"Treatment number in sleep animals.\")\n",
    "ax.set_xlabel(\"Treatment type\")\n",
    "ax.set_ylabel(\"Frequency of recordings\")\n",
    "plt.show()"
   ]
  },
  {
   "cell_type": "markdown",
   "metadata": {},
   "source": [
    "### **Idea: Use movement as an indicator of awakeness**\n",
    "#### Open LFP and Spatial information and mark movement as MNE envents)"
   ]
  },
  {
   "cell_type": "code",
   "execution_count": null,
   "metadata": {},
   "outputs": [],
   "source": [
    "def detect_movement(x, y, tresh=2):\n",
    "    '''function that detects when the animal moved\n",
    "    \n",
    "    Inputs:\n",
    "    x,y (float array): \n",
    "        Spatial coordinates x,y\n",
    "    tresh(float):\n",
    "        treshold in cm/s \n",
    "    Output:\n",
    "        moving (array):\n",
    "        1 for movement, 0 for no movement\n",
    "    '''\n",
    "    moving = np.zeros(len(x)*5)\n",
    "    for i in range(1, len(x)):\n",
    "        if (math.sqrt((x[i] - x[i - 1]) ** 2 + (y[i] - y[i - 1]) ** 2) / (0.02 * 3)) >= tresh:\n",
    "            moving[5*i:5*i+5] = 1 ## increase sample rate per 5 (size of recording)\n",
    "    return moving\n",
    "\n",
    "def create_events(record, events):\n",
    "    '''Create events on MNE object\n",
    "    Inputs:\n",
    "        record(mne_object): recording to add events\n",
    "        events_time(2D np array): array 0,1 with same lenght of recording dimension (1, lengt(record))\n",
    "    output: \n",
    "    record(mne_object): Record with events added\n",
    "    '''\n",
    "    try:\n",
    "        assert len(record.times) == events.shape[1]\n",
    "        stim_data = events\n",
    "        info = mne.create_info(['STI'], record1.info['sfreq'], ['stim'])\n",
    "        stim_raw = mne.io.RawArray(stim_data, info)\n",
    "        record.add_channels([stim_raw], force_update_info=True)\n",
    "    except AssertionError as error:\n",
    "        print(error)\n",
    "        print('The lenght of events needs to be equal to record lenght.')\n",
    "    return record"
   ]
  },
  {
   "cell_type": "markdown",
   "metadata": {},
   "source": [
    "#### **Open spatial data**\n",
    "\n",
    "(Spatial data is sampled at 50 Hz, so every 5 LFPs I have one Spatial info)\n",
    "1. Compare lenghts\n",
    "2. Syncronize\n",
    "3. detect movement\n",
    "\n",
    "Most sleep detection papers use EMG/LFP."
   ]
  },
  {
   "cell_type": "markdown",
   "metadata": {},
   "source": [
    "**Detection of slow-wave sleep, sharp-wave ripples** [https://www.cell.com/current-biology/pdfExtended/S0960-9822(19)30006-5]\n",
    "\n",
    "\n",
    "Mean running speed for each1.6 s bin was also estimated. In the absence of EMG recordings, we could not unequivocally discriminate between slow wavesleep and quiet immmobility, we therefore restricted all analyses to epochs termed ‘rest’. Rest was defined as epochs with runningspeed < 2.5cm/s, and theta/delta power ratio < 2 and waking movement as theta/delta power ratio > 2 and speed > 2.5cm/s. Sharp-wave ripples were detected by first filtering the LFP in the band 100-250Hz. The instantaneous power of the filtered LFP was thenestimated by calculating the root mean square over 7ms intervals (MATLAB function ‘envelope’ with option ‘rms’). From all LFPsacross tetrodes in the CA1 layer, the LFP whose power estimate had the highest standard deviation was then used to define rippleevents, as 100ms windows around the peak power, whenever the power was greater than the 99thpercentile of all powers in the trial(approximately equal to 4 standard deviations above the mean). Multi-unit activity (MUA) bursts were defined by binning all spikesfrom CS cells into 1ms bins and smoothing the resulting binned spike train with a Gaussian kernel (s.d. 10ms). MUA events werethen defined as crossing of a threshold defined as 3 standard deviations above the mean of the smoothed spike train, with a durationfrom 100-750ms. \n",
    "Only MUA bursts which temporally overlapped (even in part) with SWR events were included in the replay analysis."
   ]
  },
  {
   "cell_type": "markdown",
   "metadata": {},
   "source": [
    "**Spindle detection** [https://www.jneurosci.org/content/jneuro/26/50/12914.full.pdf]\n",
    "\n",
    "Power spectra of delta(0–4 Hz), theta (5–10 Hz), and spindle (12–15 Hz) frequency bandswere calculated continuously, and sleep–wake episodes were scored byvisual assessment for 10 s epochs according to the standard criteria (Bjor-vatn et al., 1998). Briefly, the awake state was marked by the presence oflow-amplitude fast activity associated with EMG tonus; SWS was identi-fied by continuous high-amplitude slow activity, regular appearance ofspindles, and decreased EMG activity. Transitions from SWS into REMsleep were identified by a decrease in high-amplitude slow activity, in-crease of theta activity, and presence of spindles. REM sleep was charac-terized by dominant theta activity, low-voltage fast activity, and an ab-sence of EMG tonus. Behavioral states were additionally verified by videorecording."
   ]
  },
  {
   "cell_type": "code",
   "execution_count": null,
   "metadata": {},
   "outputs": [],
   "source": [
    "def plot_treshold(x, y, trehs):\n",
    "    moving = detect_movement(x, y, trehs)\n",
    "    ax = plt.figure(figsize=(4,4))\n",
    "    ax = plt.scatter(x,y, c= 'b', marker='.', alpha = .2)\n",
    "    x = np.asarray([n*m for n, m in zip(x, moving)])\n",
    "    y = np.asarray([n*m for n, m in zip(y, moving)])\n",
    "    x[x==0] = np.nan\n",
    "    y[y==0] = np.nan\n",
    "    ax = plt.scatter(x,y, c= 'r', marker='.')\n",
    "    ax = plt.xlabel('X pixels')\n",
    "    ax = plt.ylabel('Y pixels')\n",
    "    plt.tight_layout()\n",
    "    return plt.show()"
   ]
  },
  {
   "cell_type": "code",
   "execution_count": null,
   "metadata": {},
   "outputs": [],
   "source": [
    "file = sleep_files[7]\n",
    "pos1 = RecPos(file)\n",
    "x, y = pos1.get_position()\n",
    "wview = pos1.get_cam_view()\n",
    "plot_treshold(x, y, 2)"
   ]
  },
  {
   "cell_type": "code",
   "execution_count": null,
   "metadata": {},
   "outputs": [],
   "source": [
    "for file in sleep_files[10:15]:\n",
    "    print(file)\n",
    "    pos1 = RecPos(file)\n",
    "    x,y = pos1.get_position()\n",
    "    moving = detect_movement(x, y, 3)\n",
    "    ax = plt.figure(figsize=(4,4))\n",
    "    ax = plt.plot(x,y, c= 'b', linewidth=1)\n",
    "    ax = plt.xlabel('X pixels')\n",
    "    ax = plt.ylabel('Y pixels')\n",
    "    plt.tight_layout()\n",
    "    plt.show()"
   ]
  },
  {
   "cell_type": "markdown",
   "metadata": {},
   "source": [
    "#### **Select files with sleep**"
   ]
  },
  {
   "cell_type": "markdown",
   "metadata": {},
   "source": [
    "#### **Open sleep file and add movement as event Channel**"
   ]
  },
  {
   "cell_type": "code",
   "execution_count": null,
   "metadata": {},
   "outputs": [],
   "source": [
    "position = RecPos(file)\n",
    "x, y = position.get_raw_pos()\n",
    "moving = detect_movement(x, y, 30)\n",
    "events = moving.reshape(1, len(moving))\n",
    "record1 = mne_lfp_Axona(file)\n",
    "record1 = create_events(record1, events) "
   ]
  },
  {
   "cell_type": "code",
   "execution_count": null,
   "metadata": {},
   "outputs": [],
   "source": [
    "events = mne.find_events(record1, stim_channel='STI')"
   ]
  },
  {
   "cell_type": "code",
   "execution_count": null,
   "metadata": {},
   "outputs": [],
   "source": [
    "record1.plot(events=events, start=40, duration=600, scalings=dict(eeg=100e-5), event_color={1: 'r'})"
   ]
  },
  {
   "cell_type": "code",
   "execution_count": null,
   "metadata": {},
   "outputs": [],
   "source": [
    "record1['ch_1']"
   ]
  },
  {
   "cell_type": "code",
   "execution_count": null,
   "metadata": {},
   "outputs": [],
   "source": [
    "# Broadband (1 - 30 Hz) bandpass filter\n",
    "record2 = mne_lfp_Axona(file)\n",
    "info = record2.info\n",
    "sf = info['sfreq']\n",
    "ch = info['ch_names'][0:2]\n",
    "pick = mne.pick_channels(info['ch_names'], include = info['ch_names'][0:1])\n",
    "freq_broad = (1, 30)\n",
    "data_broad = record2.filter(l_freq= freq_broad[0], h_freq=freq_broad[1],  method='fir',verbose=0).copy()"
   ]
  },
  {
   "cell_type": "markdown",
   "metadata": {},
   "source": [
    "### **Filtering signal into bands**\n",
    "<ul>\n",
    "    <li>Delta (1-4Hz)</li>\n",
    "    <li>Theta (4-12Hz)</li>\n",
    "    <li>Beta (12-30Hz)</li>\n",
    "</ul>\n"
   ]
  },
  {
   "cell_type": "code",
   "execution_count": null,
   "metadata": {},
   "outputs": [],
   "source": [
    "import seaborn as sns\n",
    "sns.set(font_scale=1.2)"
   ]
  },
  {
   "cell_type": "code",
   "execution_count": null,
   "metadata": {},
   "outputs": [],
   "source": [
    "t0 = 100\n",
    "tf = 130\n",
    "rec = record2.filter( l_freq=1, h_freq=30)\n",
    "data = rec[12][0][0][250*t0:250*tf]\n",
    "sfreq = 250\n",
    "print(len(data))"
   ]
  },
  {
   "cell_type": "code",
   "execution_count": null,
   "metadata": {},
   "outputs": [],
   "source": [
    "# Define sampling frequency and time vector\n",
    "data = signal.resample(data, int(7500/5)) # resampling \n",
    "time = np.arange(len(data)) / sfreq\n",
    "# Plot the signal\n",
    "fig, ax = plt.subplots(1, 1, figsize=(12, 4))\n",
    "plt.plot(time, data, lw=1.5, color='k')\n",
    "plt.xlabel('Time (seconds)')\n",
    "plt.ylabel('Voltage')\n",
    "# plt.xlim([time.min(), time.max()])\n",
    "plt.title(f'N3 sleep EEG data {tf-t0}s')\n",
    "sns.despine()"
   ]
  },
  {
   "cell_type": "code",
   "execution_count": null,
   "metadata": {},
   "outputs": [],
   "source": [
    "info = mne.create_info(ch_names=['RSC'],\n",
    "                       ch_types=['eeg'],\n",
    "                       sfreq=250)\n",
    "ch1 = mne.io.RawArray(record1['ch_1'][0], info)"
   ]
  },
  {
   "cell_type": "code",
   "execution_count": null,
   "metadata": {},
   "outputs": [],
   "source": [
    "# ch1.plot(show_scrollbars=False, show_scalebars=True, scalings=dict(eeg=100e-5))\n",
    "\n",
    "times = np.arange(len(ch1)) / 250.\n",
    "\n",
    "# Plot the signal\n",
    "fig, ax = plt.subplots(1, 1, figsize=(14, 4))\n",
    "plt.plot(times[12000:12800], record1['ch_1'][0][0][12000:12800], lw=1.5, color='k')\n",
    "plt.xlabel('Time (seconds)')\n",
    "plt.ylabel('Amplitude (uV)')\n",
    "# plt.xlim([times.min(), times.max()])\n",
    "plt.title('N2 sleep EEG data (2 spindles)')\n",
    "sns.despine()"
   ]
  },
  {
   "cell_type": "code",
   "execution_count": null,
   "metadata": {},
   "outputs": [],
   "source": [
    "from scipy import signal\n",
    "\n",
    "# Define window length (4 seconds)\n",
    "win = 4 * sfreq\n",
    "freqs, psd = signal.welch(data, sfreq, nperseg=win)\n",
    "\n",
    "# Plot the power spectrum\n",
    "sns.set(font_scale=1.2, style='white')\n",
    "plt.figure(figsize=(8, 4))\n",
    "plt.plot(freqs, psd, color='r', lw=2)\n",
    "plt.xlabel('Frequency (Hz)')\n",
    "plt.ylabel('Power spectral density (V^2 / Hz)')\n",
    "plt.ylim([0, psd.max() * 1.1])\n",
    "plt.title(\"Welch's periodogram\")\n",
    "plt.xlim([0, freqs.max()])\n",
    "sns.despine()"
   ]
  },
  {
   "cell_type": "code",
   "execution_count": null,
   "metadata": {},
   "outputs": [],
   "source": []
  }
 ],
 "metadata": {
  "kernelspec": {
   "display_name": "Python ai",
   "language": "python",
   "name": "ai"
  },
  "language_info": {
   "codemirror_mode": {
    "name": "ipython",
    "version": 3
   },
   "file_extension": ".py",
   "mimetype": "text/x-python",
   "name": "python",
   "nbconvert_exporter": "python",
   "pygments_lexer": "ipython3",
   "version": "3.8.5"
  }
 },
 "nbformat": 4,
 "nbformat_minor": 4
}
