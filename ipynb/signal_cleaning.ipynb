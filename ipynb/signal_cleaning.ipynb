{
 "metadata": {
  "language_info": {
   "codemirror_mode": {
    "name": "ipython",
    "version": 3
   },
   "file_extension": ".py",
   "mimetype": "text/x-python",
   "name": "python",
   "nbconvert_exporter": "python",
   "pygments_lexer": "ipython3",
   "version": "3.8.5"
  },
  "orig_nbformat": 2,
  "kernelspec": {
   "name": "python385jvsc74a57bd0f54dca79ab9e8111cc932570c8281d01149ceab5eeb10e59c3d410b9634d31f4",
   "display_name": "Python 3.8.5 64-bit ('simuran')"
  },
  "metadata": {
   "interpreter": {
    "hash": "f54dca79ab9e8111cc932570c8281d01149ceab5eeb10e59c3d410b9634d31f4"
   }
  }
 },
 "nbformat": 4,
 "nbformat_minor": 2,
 "cells": [
  {
   "source": [
    "# Purpose\n",
    "This notebook is designed to explore the difference in results from LFP with different groups chosen, or different cleaning methods"
   ],
   "cell_type": "markdown",
   "metadata": {}
  },
  {
   "cell_type": "code",
   "execution_count": 1,
   "metadata": {},
   "outputs": [],
   "source": [
    "# You only need to run this once per run\n",
    "# This allows running the Python files\n",
    "import sys; sys.path.insert(0, '..')"
   ]
  },
  {
   "cell_type": "code",
   "execution_count": 2,
   "metadata": {},
   "outputs": [],
   "source": [
    "# Import from my files\n",
    "from lfp_atn_simuran.analysis.frequency_analysis import grouped_powers"
   ]
  },
  {
   "cell_type": "code",
   "execution_count": 10,
   "metadata": {},
   "outputs": [],
   "source": [
    "%matplotlib inline\n",
    "%load_ext autoreload\n",
    "%autoreload 2\n",
    "\n",
    "import os\n",
    "\n",
    "import matplotlib.pyplot as plt\n",
    "import numpy as np\n",
    "import mne\n",
    "import pandas as pd\n",
    "from tqdm.notebook import tqdm\n",
    "from mne.preprocessing import ICA\n",
    "import simuran"
   ]
  },
  {
   "cell_type": "code",
   "execution_count": 4,
   "metadata": {},
   "outputs": [],
   "source": [
    "def compare_results():\n",
    "    pass"
   ]
  },
  {
   "cell_type": "code",
   "execution_count": 5,
   "metadata": {},
   "outputs": [],
   "source": [
    "# Establish data paths\n",
    "set_file_location = r\"/media/sean/0F08-404A/ATNxLFP/LSubRet5/recording/Small sq up_small sq down/01122017/S1_small sq up/01122017_smallsqdownup_up_1_1.set\""
   ]
  },
  {
   "cell_type": "code",
   "execution_count": 6,
   "metadata": {},
   "outputs": [],
   "source": [
    "# Establish the recording layout\n",
    "def recording_info():\n",
    "    def setup_signals():\n",
    "        \"\"\"Set up the signals (such as eeg or lfp).\"\"\"\n",
    "        # The total number of signals in the recording\n",
    "        num_signals = 32\n",
    "\n",
    "        # What brain region each signal was recorded from\n",
    "        regions = [\"RSC\"] * 2 + [\"SUB\"] * 30\n",
    "\n",
    "        # If the wires were bundled, or any other kind of grouping existed\n",
    "        # If no grouping, groups = [i for i in range(num_signals)]\n",
    "        groups = [0, 0, 1, 1]\n",
    "        for i in range(2, 9):\n",
    "            groups.append(i)\n",
    "            groups.append(i)\n",
    "            groups.append(i)\n",
    "            groups.append(i)\n",
    "\n",
    "        # The sampling rate in Hz of each signal\n",
    "        sampling_rate = [250] * num_signals\n",
    "        channel_type = [\"eeg\"] * num_signals\n",
    "\n",
    "        # This just passes the information on\n",
    "        output_dict = {\n",
    "            \"num_signals\": num_signals,\n",
    "            \"region\": regions,\n",
    "            \"group\": groups,\n",
    "            \"sampling_rate\": sampling_rate,\n",
    "            \"channel_type\": channel_type,\n",
    "        }\n",
    "\n",
    "        return output_dict\n",
    "\n",
    "    def setup_units():\n",
    "        \"\"\"Set up the single unit data.\"\"\"\n",
    "        # The number of tetrodes, probes, etc - any kind of grouping\n",
    "        num_groups = 8\n",
    "\n",
    "        # The region that each group belongs to\n",
    "        regions = [\"SUB\"] * num_groups\n",
    "\n",
    "        # A group number for each group, for example the tetrode number\n",
    "        groups = [1, 2, 3, 4, 9, 10, 11, 12]\n",
    "\n",
    "        output_dict = {\n",
    "            \"num_groups\": num_groups,\n",
    "            \"region\": regions,\n",
    "            \"group\": groups,\n",
    "        }\n",
    "\n",
    "        return output_dict\n",
    "\n",
    "    def setup_spatial():\n",
    "        \"\"\"Set up the spatial data.\"\"\"\n",
    "        arena_size = \"default\"\n",
    "\n",
    "        output_dict = {\n",
    "            \"arena_size\": arena_size,\n",
    "        }\n",
    "        return output_dict\n",
    "\n",
    "    def setup_loader():\n",
    "        \"\"\"\n",
    "        Set up the loader and keyword arguments for the loader.\n",
    "\n",
    "        See also\n",
    "        --------\n",
    "        simuran.loaders.loader_list.py\n",
    "\n",
    "        \"\"\"\n",
    "        # The type of loader to use, see simuran.loaders.loader_list.py for options\n",
    "        # For now nc_loader is the most common option\n",
    "        # loader = \"params_only\"\n",
    "        loader = \"nc_loader\"\n",
    "\n",
    "        # Keyword arguments to pass to the loader.\n",
    "        loader_kwargs = {\n",
    "            \"system\": \"Axona\",\n",
    "            \"pos_extension\": \".txt\",\n",
    "        }\n",
    "\n",
    "        output_dict = {\n",
    "            \"loader\": loader,\n",
    "            \"loader_kwargs\": loader_kwargs,\n",
    "        }\n",
    "\n",
    "        return output_dict\n",
    "\n",
    "    load_params = setup_loader()\n",
    "\n",
    "    mapping = {\n",
    "        \"signals\": setup_signals(),\n",
    "        \"units\": setup_units(),\n",
    "        \"spatial\": setup_spatial(),\n",
    "        \"loader\": load_params[\"loader\"],\n",
    "        \"loader_kwargs\": load_params[\"loader_kwargs\"],\n",
    "    }\n",
    "    return mapping"
   ]
  },
  {
   "cell_type": "code",
   "execution_count": 7,
   "metadata": {},
   "outputs": [
    {
     "output_type": "stream",
     "name": "stdout",
     "text": [
      "/media/sean/0F08-404A/ATNxLFP/LSubRet5/recording/Small sq up_small sq down/01122017/S1_small sq up/01122017_smallsqdownup_up_1_1.set\n"
     ]
    }
   ],
   "source": [
    "# Load the data\n",
    "recording = simuran.Recording(params=recording_info(), base_file=set_file_location)\n",
    "print(recording.source_file)"
   ]
  },
  {
   "cell_type": "code",
   "execution_count": 16,
   "metadata": {},
   "outputs": [
    {
     "output_type": "stream",
     "name": "stdout",
     "text": [
      "1\n0: [ 1199.21875 -8484.375   -3332.03125 -2164.0625    160.15625 -1683.59375\n -1671.875    -621.09375   277.34375 -3109.375  ] uV\n1: [ 2402.34375 -8316.40625 -5796.875    -765.625     683.59375 -1343.75\n -2343.75    -1328.125    -468.75    -3085.9375 ] uV\n2: [  851.5625  -3855.46875 -3515.625   -1972.65625 -1437.5     -1125.\n -1554.6875  -1414.0625    523.4375  -1695.3125 ] uV\n3: [  914.0625  -3914.0625  -3632.8125  -2042.96875 -1496.09375 -1148.4375\n -1578.125   -1464.84375   554.6875  -1726.5625 ] uV\n4: [ 1085.9375  -7613.28125 -4542.96875 -1535.15625    27.34375 -2207.03125\n -1664.0625   -957.03125   152.34375 -2171.875  ] uV\n5: [ 1320.3125  -7460.9375  -3207.03125  -640.625     484.375   -1851.5625\n -1527.34375  -949.21875  -707.03125 -2589.84375] uV\n6: [ 1164.0625  -7386.71875 -3992.1875  -1003.90625   445.3125  -2042.96875\n -1738.28125 -1113.28125  -250.      -2335.9375 ] uV\n7: [ 1707.03125 -7207.03125 -3246.09375  -628.90625   468.75    -1828.125\n -1585.9375  -1203.125    -628.90625 -2679.6875 ] uV\n8: [ 1398.4375  -6960.9375  -3894.53125 -1296.875     425.78125 -1687.5\n -2031.25     -191.40625 -1757.8125  -2152.34375] uV\n9: [ 1933.59375 -6000.      -3589.84375  -921.875     671.875   -1949.21875\n -1882.8125  -1417.96875    82.03125 -2343.75   ] uV\n10: [ 1296.875   -7054.6875  -2378.90625  -367.1875    601.5625  -1464.84375\n -1484.375    -765.625   -1449.21875 -2468.75   ] uV\n11: [ 1375.      -7468.75    -4320.3125  -1000.       1214.84375 -2386.71875\n -2273.4375  -1039.0625    679.6875  -3117.1875 ] uV\n12: [ 2074.21875 -8304.6875    164.0625    386.71875  -105.46875 -2222.65625\n -1187.5     -1476.5625  -1632.8125  -2300.78125] uV\n13: [ 2066.40625 -6292.96875 -3539.0625   -402.34375   796.875   -2011.71875\n -1441.40625 -1445.3125   1050.78125 -2355.46875] uV\n14: [  605.46875 -6187.5      -652.34375  -507.8125     31.25    -1996.09375\n -1796.875   -1128.90625 -1679.6875  -1871.09375] uV\n15: [ 1816.40625 -6316.40625 -5167.96875 -1433.59375   570.3125  -2257.8125\n -1921.875   -1824.21875  1445.3125  -2375.     ] uV\n16: [ 2179.6875  -9660.15625  1015.625    4222.65625  4726.5625    476.5625\n -2132.8125    398.4375  -3042.96875 -3023.4375 ] uV\n17: [  902.34375 -6382.8125  -1554.6875    144.53125    58.59375 -2328.125\n -1515.625   -1277.34375   214.84375 -2578.125  ] uV\n18: [ 2910.15625 -9492.1875   2128.90625  5261.71875  5812.5      1773.4375\n  -890.625    1601.5625  -2648.4375  -2734.375  ] uV\n19: [ 1542.96875 -7996.09375 -1089.84375  1003.90625   890.625   -2015.625\n -1410.15625 -1292.96875   757.8125  -3558.59375] uV\n20: [ 2492.1875  -9242.1875    746.09375  3898.4375   4734.375     746.09375\n -1566.40625   585.9375  -2207.03125 -2546.875  ] uV\n21: [ 3496.09375 -7062.5        66.40625  4042.96875  5367.1875    980.46875\n -1417.96875   347.65625   -62.5     -2023.4375 ] uV\n22: [ 2972.65625 -8437.5      1500.       4398.4375   5117.1875   1339.84375\n  -933.59375  1054.6875  -1847.65625 -2328.125  ] uV\n23: [ 1921.875   -8457.03125  -855.46875  2773.4375   3707.03125  -585.9375\n -2539.0625   -796.875   -1031.25    -2773.4375 ] uV\n24: [  878.90625 -8371.09375  -117.1875   1066.40625  1054.6875  -1738.28125\n -2167.96875  -894.53125 -1140.625   -1765.625  ] uV\n25: [ 2441.40625 -8718.75      437.5      3746.09375  4414.0625    152.34375\n -2234.375    -117.1875  -1894.53125 -2910.15625] uV\n26: [ 2691.40625 -8617.1875    453.125    3937.5      4445.3125   -117.1875\n -2605.46875  -410.15625 -1875.      -3105.46875] uV\n27: [ 2167.96875 -8683.59375   925.78125  3902.34375  4644.53125   816.40625\n -1386.71875   269.53125 -1738.28125 -2214.84375] uV\n28: [  1964.84375 -10019.53125  -1726.5625    2109.375     3445.3125\n  -2640.625     -917.96875  -1910.15625   1261.71875  -2175.78125] uV\n29: [ 3136.71875 -8359.375   -1035.15625    78.125     480.46875 -2328.125\n -1128.90625 -2308.59375   558.59375 -2718.75   ] uV\n30: [  773.4375  -7429.6875    328.125    -492.1875   -320.3125  -2218.75\n -1601.5625  -1171.875   -1378.90625 -1238.28125] uV\n31: [  2531.25    -10414.0625     160.15625   1378.90625   2089.84375\n  -2875.       -2531.25     -2382.8125     285.15625  -2113.28125] uV\nIndexedOrderedDict([('grouped_powers', None)])\n"
     ]
    }
   ],
   "source": [
    "# Establish the analysis to run\n",
    "analysis_handler = simuran.AnalysisHandler()\n",
    "analysis_handler.add_fn(grouped_powers, recording, win_len=1)\n",
    "analysis_handler.run_all_fns()\n",
    "print(analysis_handler.get_results())\n",
    "analysis_handler.reset()\n"
   ]
  }
 ]
}