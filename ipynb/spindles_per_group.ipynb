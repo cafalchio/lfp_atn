{
 "cells": [
  {
   "cell_type": "markdown",
   "id": "60a0da38-ae51-4028-8e3d-515aadbe4ae5",
   "metadata": {},
   "source": [
    "## **Spindle detection**\n",
    "\n",
    "#### **Spindles calculation**\n",
    "**<ul>Define 2 seconds windows</ul>**\n",
    "**<ul>Animal movement using 2.5 cm/s </ul>**\n",
    "**<ul>Theta/delta power ration > 2 </ul>**\n",
    "\n",
    "\n",
    "**Issues:**  Very slow\n",
    "\n",
    "**Todo:** map channels to recording / statiscal analysis"
   ]
  },
  {
   "cell_type": "markdown",
   "id": "74ad3e7c-771d-40a3-9d42-9de069317ddf",
   "metadata": {},
   "source": [
    "#### **Import libraries**"
   ]
  },
  {
   "cell_type": "code",
   "execution_count": 15,
   "id": "813df210-ab27-4eff-9aac-3035ba008a37",
   "metadata": {},
   "outputs": [],
   "source": [
    "import sys  \n",
    "sys.path.insert(0, 'D:/Beths/')\n",
    "import os\n",
    "# import re\n",
    "import math\n",
    "import pandas as pd\n",
    "import numpy as np\n",
    "from scipy import signal\n",
    "from tqdm import tqdm\n",
    "import matplotlib.pyplot as plt\n",
    "\n",
    "import mne\n",
    "from mne.filter import filter_data, resample\n",
    "from pandas_profiling import ProfileReport\n",
    "import yasa\n",
    "import pingouin as pg\n",
    "\n",
    "## Import from my files\n",
    "from data_lfp import mne_lfp_Axona, load_lfp_Axona\n",
    "from data_pos import RecPos\n",
    "from bandPower import *\n",
    "\n",
    "import warnings\n",
    "warnings.filterwarnings('ignore')"
   ]
  },
  {
   "cell_type": "markdown",
   "id": "9dad6acd-64aa-4eb8-ae39-cd598b000f95",
   "metadata": {},
   "source": [
    "#### **Reference papers**"
   ]
  },
  {
   "cell_type": "markdown",
   "id": "40f3593e-e6c4-4c64-a06a-1eda7b4a61a0",
   "metadata": {},
   "source": [
    "##### **Detection of slow-wave sleep, sharp-wave ripples and multi-unit activity bursts**\n",
    "\n",
    "Paper: Coordinated Emergence of Hippocampal Replay and Theta Sequences during Post-natal Development: \n",
    "[https://www.sciencedirect.com/science/article/pii/S0960982219300065]\n",
    "\n",
    "The brain states slow-wave sleep (SWS), rapid-eye movement sleep (REM) and awake movement were defined following [22\n",
    "]. A multitaper power spectral density estimate of the hippocampal local field potential (LFP) was derived for **1.6 s windows** , overlapping by 0.8 s (MATLAB function ‘pmtm’). From this, power in the delta and theta bands were calculated in each window. As theta frequency changes during development [18\n",
    "], theta and delta peak frequencies were calculated for each session, defined as the peak frequency of the fast Fourier transform of the LFP, in the bands 5-11Hz (theta) and 1.5-4Hz (delta). **Mean running speed for each 1.6 s bin was also estimated. In the absence of EMG recordings, we could not unequivocally discriminate between slow wave sleep and quiet immmobility, we therefore restricted all analyses to epochs termed ‘rest’.**\n",
    "\n",
    "Rest was defined as epochs with running speed < 2.5cm/s , and theta/delta power ratio < 2 and waking movement as theta/delta power ratio > 2 and speed > 2.5cm/s. \n",
    "Sharp-wave ripples were detected by first filtering the LFP in the band 100-250Hz. \n",
    "The instantaneous power of the filtered LFP was then estimated by calculating the root mean square over 7ms intervals (MATLAB function ‘envelope’ with option ‘rms’). From all LFPs across tetrodes in the CA1 layer, the LFP whose power estimate had the highest standard deviation was then used to define ripple events, as 100ms windows around the peak power, whenever the power was greater than the 99th percentile of all powers in the trial (approximately equal to 4 standard deviations above the mean). Multi-unit activity (MUA) bursts were defined by binning all spikes from CS cells into 1ms bins and smoothing the resulting binned spike train with a Gaussian kernel (s.d. 10ms). MUA events were then defined as crossing of a threshold defined as 3 standard deviations above the mean of the smoothed spike train, with a duration from 100-750ms. Only MUA bursts which temporally overlapped (even in part) with SWR events were included in the replay analysis."
   ]
  },
  {
   "cell_type": "markdown",
   "id": "18eb40dd-606f-45a3-88f2-d0c5687062c5",
   "metadata": {},
   "source": [
    "#### **Open Sleep Files**"
   ]
  },
  {
   "cell_type": "code",
   "execution_count": 16,
   "id": "4cd89a50-b76a-4fa7-8ede-e9556e87ca22",
   "metadata": {},
   "outputs": [],
   "source": [
    "df = pd.read_csv('data_scheme.csv')\n",
    "sleep = df.loc[df.sleep == 1]\n",
    "sleep_files = df.loc[df.sleep == 1, ['folder', 'filename']].agg('/'.join, axis=1).values"
   ]
  },
  {
   "cell_type": "code",
   "execution_count": 17,
   "id": "d49a9488-e989-4b65-af05-c886fdf0bcfe",
   "metadata": {},
   "outputs": [],
   "source": [
    "sleep_files = [file for file in sleep_files if 'awake' not in file.split('_')]\n",
    "sleep_files = [file for file in sleep_files if 'awake.set' not in file.split('_')]\n",
    "filenames = [r.strip().split('/')[-1] for r in sleep_files]\n",
    "sleep = df[df.filename.isin(filenames)]\n",
    "sleep_files = sleep.loc[sleep.sleep == 1, ['folder', 'filename']].agg('/'.join, axis=1).values"
   ]
  },
  {
   "cell_type": "code",
   "execution_count": 18,
   "id": "45a9f332-5aee-45a4-bb4a-9654828b8276",
   "metadata": {},
   "outputs": [
    {
     "data": {
      "image/png": "[encoded data removed]",
      "text/plain": [
       "<Figure size 648x360 with 1 Axes>"
      ]
     },
     "metadata": {
      "needs_background": "light"
     },
     "output_type": "display_data"
    }
   ],
   "source": [
    "ax = sleep['rat'].value_counts().plot(kind='bar',\n",
    "                                    figsize=(9,5),\n",
    "                                    title=\"Number of sleep recordings for each animal.\")\n",
    "ax.set_xlabel(\"Rat ID\")\n",
    "ax.set_ylabel(\"Frequency of recordings\")\n",
    "plt.show()"
   ]
  },
  {
   "cell_type": "code",
   "execution_count": 19,
   "id": "3f1f0166-b61a-48cc-a167-86309a8527c2",
   "metadata": {},
   "outputs": [
    {
     "data": {
      "image/png": "[encoded data removed]",
      "text/plain": [
       "<Figure size 648x360 with 1 Axes>"
      ]
     },
     "metadata": {
      "needs_background": "light"
     },
     "output_type": "display_data"
    }
   ],
   "source": [
    "ax = sleep['treatment'].value_counts().plot(kind='bar',\n",
    "                                    figsize=(9,5),\n",
    "                                    title=\"Treatment numberd in sleep animals.\")\n",
    "ax.set_xlabel(\"Treatment type\")\n",
    "\n",
    "ax.set_ylabel(\"Frequency of recordings\")\n",
    "plt.show()"
   ]
  },
  {
   "cell_type": "markdown",
   "id": "c55cae64-ae08-4dab-b7eb-4dcf21f10b37",
   "metadata": {},
   "source": [
    "##### **Auxiliary functions**"
   ]
  },
  {
   "cell_type": "code",
   "execution_count": 70,
   "id": "dfb5fe9e-f1d7-48f8-8057-27411b3eff62",
   "metadata": {},
   "outputs": [],
   "source": [
    "def bandpower(data, low, high, window_sec = 2, sf = 250, relative_power = True):\n",
    " \n",
    "    from scipy.signal import welch\n",
    "    from scipy.integrate import simps\n",
    "    scale = 1000 \n",
    "    lfp_samples = data * scale\n",
    "    _filter = [1.5, 40]\n",
    "\n",
    "    # Compute the modified periodogram (Welch)\n",
    "    nperseg = int(window_sec * sf)\n",
    "    freqs, psd = welch(lfp_samples, sf, nperseg=nperseg)\n",
    "\n",
    "    # Frequency resolution\n",
    "    freq_res = freqs[1] - freqs[0]\n",
    "\n",
    "    # Find index of band in frequency vector\n",
    "    idx_band = np.logical_and(freqs >= low, freqs <= high)\n",
    "\n",
    "    # Integral approximation of the spectrum using parabola (Simpson's\n",
    "    # rule)\n",
    "    bp = simps(psd[idx_band], dx=freq_res)\n",
    "\n",
    "    idx_band = np.logical_and(freqs >= _filter[0], freqs <= _filter[1])\n",
    "    tp = simps(psd[idx_band], dx=freq_res)\n",
    "\n",
    "    if relative_power:\n",
    "        return bp / tp\n",
    "    return bp\n",
    "\n",
    "\n",
    "def bandpower_ratio(data, win_sec=2):\n",
    "   \n",
    "    b1 = bandpower(data, 1., 4., win_sec)\n",
    "    b2 = bandpower(data, 5., 11., win_sec)\n",
    "    if b1 == b2:\n",
    "        print(\"Error!\")\n",
    "    bp = b1 / b2\n",
    "    return bp\n",
    "\n",
    "\n",
    "def mark_resting(file, mne_data,  tresh=2.5, window_sec = 2): # Mark timestamps were the speed > 2.5 cm/s\n",
    "    ''' Returns ones for the time windows where the animal was moving with a speed smaller than treshold\n",
    "    Inputs:\n",
    "        file(str): filename to be analysed\n",
    "        tresh(float): speed treshold in cm/s\n",
    "        window_sec(int): Window in seconds to define resting epochs\n",
    "    Returns: \n",
    "        resting(arr): 1 (ones) for resting 0 (zeros) for movement\n",
    "    '''\n",
    "#     cnt = 0 # DEBUG\n",
    "    \n",
    "    #Calculate movement based on speed treshold\n",
    "    file_resting = []\n",
    "    pos = RecPos(file)\n",
    "    \n",
    "#     mne_data = mne_lfp_Axona(file)\n",
    "    window = window_sec*250\n",
    "    speed = pos.get_speed()\n",
    "    moving = np.zeros(len(speed)*5)\n",
    "    \n",
    "    for i in range(0, len(speed)): \n",
    "        if speed[i] > tresh:\n",
    "            moving[5*i:5*i+5] = 1\n",
    "            \n",
    "    for data in mne_data.get_data():\n",
    "        result = np.zeros(len(data))\n",
    "        for i in range(0, len(data) - window, window//2):\n",
    "            bp = bandpower_ratio(data[i : i + window], window_sec)\n",
    "            if sum(moving[i : i + window]) == 0 and bp < 2: # running speed < 2.5cm/s , and theta/delta power ratio < 2\n",
    "                result[i : i + window] = 1 #ones for resting periods\n",
    "#                 cnt+=1 # DEBUG\n",
    "        file_resting.append(result)\n",
    "#     print(f'Total epochs for window = {window_sec}s and tresh = {tresh}cm/s is: {cnt} epochs') # DEBUG\n",
    "    return np.asarray(file_resting)\n",
    "\n",
    "    \n",
    "def create_events(record, events):\n",
    "    '''Create events on MNE object\n",
    "    Inputs:\n",
    "        record(mne_object): recording to add events\n",
    "        events_time(2D np array): array 0,1 with same lenght of recording dimension (1, lengt(record))\n",
    "    output: \n",
    "    record(mne_object): Record with events added\n",
    "    '''\n",
    "    events = np.reshape(events, (1,-1))\n",
    "    try:\n",
    "        assert len(record.times) == events.shape[1]\n",
    "        stim_data = events\n",
    "        info = mne.create_info(['STI'], record.info['sfreq'], ['stim'])\n",
    "        stim_raw = mne.io.RawArray(stim_data, info)\n",
    "        record.add_channels([stim_raw], force_update_info=True)\n",
    "    except AssertionError as error:\n",
    "        print(error)\n",
    "        print('The lenght of events needs to be equal to record lenght.')\n",
    "    return record\n",
    "\n",
    "def process_spindles(mne_data):\n",
    "    ''''''    \n",
    "    sp = yasa.spindles_detect(mne_data, sf=250, thresh={'rel_pow': 0.2, 'corr': 0.65, 'rms': 2.5}, freq_sp= (12, 15), multi_only=True, verbose='error')\n",
    "    df = sp.summary()\n",
    "    return df\n",
    "\n",
    "def spindles_exclude_resting(mne_data, resting, ch_list = None):\n",
    "#     resting_df = pd.DataFrame(resting.T, columns = ['ch_'+str(1+i) for i in range(0, len(mne_data.info['ch_names']))])\n",
    "    resting_df = pd.DataFrame(resting.T, columns = mne_data.info['ch_names'])\n",
    "    resting_df['time'] = [i*0.004 for i in range(0, len(mne_data))]\n",
    "    resting_df = resting_df.set_index('time')\n",
    "    spindles_df = process_spindles(mne_data)\n",
    "    cnt = 0\n",
    "    for channel in spindles_df.Channel.unique():  \n",
    "        sp_times = spindles_df.loc[spindles_df.Channel == channel][['Start', 'End']].values\n",
    "        for time in sp_times:\n",
    "            try:\n",
    "                if sum(resting_df[channel][time[0] : time[1]]) <= 1:\n",
    "                    spindles_df[(spindles_df.Channel == channel) & (spindles_df.Start == time[0]) & (spindles_df.End == time[1])] = np.nan\n",
    "            except:\n",
    "                print(f'Error in channel {channel}')\n",
    "    return spindles_df"
   ]
  },
  {
   "cell_type": "markdown",
   "id": "d375bdd7-55b3-4883-8e08-c456bc42f579",
   "metadata": {},
   "source": [
    "##### **Divide files into treatment groups**"
   ]
  },
  {
   "cell_type": "code",
   "execution_count": 21,
   "id": "dbdb27c1-5e8d-4efb-9d35-9c9bed8f894e",
   "metadata": {},
   "outputs": [
    {
     "name": "stdout",
     "output_type": "stream",
     "text": [
      "Muscimol: 6 recordings in 1 animals\n",
      "Control: 23 recordings in 9 animals\n",
      "Lesion: 12 recordings in 4 animals\n"
     ]
    }
   ],
   "source": [
    "musc = sleep.loc[sleep.treatment == 'muscimol']\n",
    "control = sleep.loc[sleep.treatment == 'Control']\n",
    "lesion = sleep.loc[sleep.treatment == 'lesion']\n",
    "print(f'Muscimol: {len(musc)} recordings in {len(musc.rat.unique())} animals')\n",
    "print(f'Control: {len(control)} recordings in {len(control.rat.unique())} animals')\n",
    "print(f'Lesion: {len(lesion)} recordings in {len(lesion.rat.unique())} animals')\n",
    "msc_files = sleep.loc[sleep.treatment == 'muscimol', ['folder', 'filename']].agg('/'.join, axis=1).values\n",
    "cnt_files = sleep.loc[sleep.treatment == 'Control', ['folder', 'filename']].agg('/'.join, axis=1).values\n",
    "les_files = sleep.loc[sleep.treatment == 'lesion', ['folder', 'filename']].agg('/'.join, axis=1).values"
   ]
  },
  {
   "cell_type": "markdown",
   "id": "588f128a-0653-4d39-aaa3-8a8ef19a4cc5",
   "metadata": {},
   "source": [
    "#### **Debuging**"
   ]
  },
  {
   "cell_type": "markdown",
   "id": "f6192bfc-151c-4a8d-bea9-d9a8f4b453af",
   "metadata": {},
   "source": [
    "#### Test mark_resting function:\n"
   ]
  },
  {
   "cell_type": "code",
   "execution_count": 9,
   "id": "380c0db4-2ef9-424d-a607-807178fe6b78",
   "metadata": {},
   "outputs": [],
   "source": [
    "# mne_data = mne_lfp_Axona(file)\n",
    "# m1 = mark_resting(file, mne_data, tresh=2.5, window_sec = 2) #(1 for rest, 0 for movement)\n",
    "# m2 = mark_resting(file, mne_data, tresh=2.5, window_sec = 5)\n",
    "# m3 = mark_resting(file, mne_data, tresh=4.5, window_sec = 2)"
   ]
  },
  {
   "cell_type": "markdown",
   "id": "e5466e12-c477-45c7-bce5-f871a05d8ecf",
   "metadata": {},
   "source": [
    "#### **Calculate spindles and filter movement**:"
   ]
  },
  {
   "cell_type": "code",
   "execution_count": 91,
   "id": "6b592ac7-5c6e-4684-90f0-60d64392b4ea",
   "metadata": {},
   "outputs": [],
   "source": [
    "missing_channels = [\n",
    "    '/mnt/d/Beths/LSR7/sleep/09042018/S2_resting/09042018_LSR7_sleep_partial_2.set',\n",
    "    '/mnt/d/Beths/LSR7/sleep/09042018/S3_sleep/09042018_LSR7_sleep_sleep_3.set',\n",
    "    '/mnt/d/Beths/LSR7/sleep/09042018/S4_partial/09042018_LSR7_sleep_parital_4.set']"
   ]
  },
  {
   "cell_type": "code",
   "execution_count": 73,
   "id": "7e451385-914c-4715-9abb-6c5ff2b85ae0",
   "metadata": {},
   "outputs": [
    {
     "name": "stderr",
     "output_type": "stream",
     "text": [
      "100%|██████████| 23/23 [12:35<00:00, 32.87s/it]\n"
     ]
    }
   ],
   "source": [
    "dfs = []\n",
    "for file in tqdm(cnt_files):\n",
    "    mne_data = mne_lfp_Axona(file)\n",
    "    resting = mark_resting(file, mne_data, tresh=2.5, window_sec = 2)\n",
    "    dfs.append(spindles_exclude_resting(mne_data, resting))\n",
    "control_df = pd.concat(dfs)  "
   ]
  },
  {
   "cell_type": "code",
   "execution_count": 74,
   "id": "9960400f-f278-41a6-955e-3698fd9310ba",
   "metadata": {},
   "outputs": [
    {
     "name": "stderr",
     "output_type": "stream",
     "text": [
      "100%|██████████| 6/6 [03:26<00:00, 34.34s/it]\n"
     ]
    }
   ],
   "source": [
    "dfs = []\n",
    "for file in tqdm(msc_files):\n",
    "    mne_data = mne_lfp_Axona(file)\n",
    "    resting = mark_resting(file, mne_data,  tresh=2.5, window_sec = 2)\n",
    "    dfs.append(spindles_exclude_resting(mne_data, resting))\n",
    "musc_df = pd.concat(dfs)  "
   ]
  },
  {
   "cell_type": "code",
   "execution_count": 93,
   "id": "959187db-5aad-4296-b995-076007a21c55",
   "metadata": {},
   "outputs": [
    {
     "name": "stderr",
     "output_type": "stream",
     "text": [
      "100%|██████████| 12/12 [05:38<00:00, 28.22s/it]\n"
     ]
    }
   ],
   "source": [
    "dfs = []\n",
    "for file in tqdm(les_files):\n",
    "    mne_data = mne_lfp_Axona(file)\n",
    "    if file in missing_channels:\n",
    "        mne_data.drop_channels(['ch_' + str(i) for i in range(17, 33)])\n",
    "    resting = mark_resting(file, mne_data,  tresh=2.5, window_sec = 2)\n",
    "    dfs.append(spindles_exclude_resting(mne_data, resting))\n",
    "lesion_df = pd.concat(dfs)  "
   ]
  },
  {
   "cell_type": "markdown",
   "id": "50e498d8-b8d8-4426-a626-bc62f3440679",
   "metadata": {},
   "source": [
    "#### **Create Exploratory report**"
   ]
  },
  {
   "cell_type": "code",
   "execution_count": 95,
   "id": "981c6b1a-8009-4d13-a692-fa1ed0d9b20c",
   "metadata": {},
   "outputs": [],
   "source": [
    "profile_control = ProfileReport(control_df, title=\"Pandas Profiling Report\")\n",
    "profile_lesion = ProfileReport(lesion_df, title=\"Pandas Profiling Report\")\n",
    "profile_musc = ProfileReport(musc_df, title=\"Pandas Profiling Report\")"
   ]
  },
  {
   "cell_type": "code",
   "execution_count": 96,
   "id": "d342b99a-ecd2-4714-a4fa-0481b9ca7fac",
   "metadata": {},
   "outputs": [
    {
     "data": {
      "application/vnd.jupyter.widget-view+json": {
       "model_id": "8e69324d268b48dca594e95f3984e4e2",
       "version_major": 2,
       "version_minor": 0
      },
      "text/plain": [
       "Summarize dataset:   0%|          | 0/27 [00:00<?, ?it/s]"
      ]
     },
     "metadata": {},
     "output_type": "display_data"
    },
    {
     "data": {
      "application/vnd.jupyter.widget-view+json": {
       "model_id": "5b51f7e0ecbf431791e63896bf34a572",
       "version_major": 2,
       "version_minor": 0
      },
      "text/plain": [
       "Generate report structure:   0%|          | 0/1 [00:00<?, ?it/s]"
      ]
     },
     "metadata": {},
     "output_type": "display_data"
    },
    {
     "data": {
      "application/vnd.jupyter.widget-view+json": {
       "model_id": "d47f7d33aece476784e7e8bb9681f93c",
       "version_major": 2,
       "version_minor": 0
      },
      "text/plain": [
       "Render HTML:   0%|          | 0/1 [00:00<?, ?it/s]"
      ]
     },
     "metadata": {},
     "output_type": "display_data"
    },
    {
     "data": {
      "application/vnd.jupyter.widget-view+json": {
       "model_id": "84095869f1a64a9492981c6fa19aebf3",
       "version_major": 2,
       "version_minor": 0
      },
      "text/plain": [
       "Export report to file:   0%|          | 0/1 [00:00<?, ?it/s]"
      ]
     },
     "metadata": {},
     "output_type": "display_data"
    },
    {
     "data": {
      "application/vnd.jupyter.widget-view+json": {
       "model_id": "8c0245f128d24d368172b444eb57d230",
       "version_major": 2,
       "version_minor": 0
      },
      "text/plain": [
       "Summarize dataset:   0%|          | 0/27 [00:00<?, ?it/s]"
      ]
     },
     "metadata": {},
     "output_type": "display_data"
    },
    {
     "data": {
      "application/vnd.jupyter.widget-view+json": {
       "model_id": "62cc9812e1804866bb8233953cd616af",
       "version_major": 2,
       "version_minor": 0
      },
      "text/plain": [
       "Generate report structure:   0%|          | 0/1 [00:00<?, ?it/s]"
      ]
     },
     "metadata": {},
     "output_type": "display_data"
    },
    {
     "data": {
      "application/vnd.jupyter.widget-view+json": {
       "model_id": "6f738b4c6ed44b8888131bcb4b130b87",
       "version_major": 2,
       "version_minor": 0
      },
      "text/plain": [
       "Render HTML:   0%|          | 0/1 [00:00<?, ?it/s]"
      ]
     },
     "metadata": {},
     "output_type": "display_data"
    },
    {
     "data": {
      "application/vnd.jupyter.widget-view+json": {
       "model_id": "fedaec29ebda4212a981f934e5fae352",
       "version_major": 2,
       "version_minor": 0
      },
      "text/plain": [
       "Export report to file:   0%|          | 0/1 [00:00<?, ?it/s]"
      ]
     },
     "metadata": {},
     "output_type": "display_data"
    },
    {
     "data": {
      "application/vnd.jupyter.widget-view+json": {
       "model_id": "0b202e8ce8ea460eabbe5919391073d7",
       "version_major": 2,
       "version_minor": 0
      },
      "text/plain": [
       "Summarize dataset:   0%|          | 0/27 [00:00<?, ?it/s]"
      ]
     },
     "metadata": {},
     "output_type": "display_data"
    },
    {
     "data": {
      "application/vnd.jupyter.widget-view+json": {
       "model_id": "b99378f6edc64e6885886b45b453f59a",
       "version_major": 2,
       "version_minor": 0
      },
      "text/plain": [
       "Generate report structure:   0%|          | 0/1 [00:00<?, ?it/s]"
      ]
     },
     "metadata": {},
     "output_type": "display_data"
    },
    {
     "data": {
      "application/vnd.jupyter.widget-view+json": {
       "model_id": "3748c885f17349ffbffc0b5ce7a5a42d",
       "version_major": 2,
       "version_minor": 0
      },
      "text/plain": [
       "Render HTML:   0%|          | 0/1 [00:00<?, ?it/s]"
      ]
     },
     "metadata": {},
     "output_type": "display_data"
    },
    {
     "data": {
      "application/vnd.jupyter.widget-view+json": {
       "model_id": "8c6355222002458eab1f9ddf70f33420",
       "version_major": 2,
       "version_minor": 0
      },
      "text/plain": [
       "Export report to file:   0%|          | 0/1 [00:00<?, ?it/s]"
      ]
     },
     "metadata": {},
     "output_type": "display_data"
    }
   ],
   "source": [
    "profile_lesion.to_file(\"lesion.html\")\n",
    "profile_musc.to_file(\"muscimol.html\")\n",
    "profile_control.to_file(\"control.html\")"
   ]
  },
  {
   "cell_type": "markdown",
   "id": "74ac20e1-cfc2-4a17-83fc-9a02fb5d0e65",
   "metadata": {},
   "source": [
    "#### **Statistical analysis**"
   ]
  },
  {
   "cell_type": "code",
   "execution_count": null,
   "id": "9ce07e98-4f50-4038-b070-a26984f99ce9",
   "metadata": {},
   "outputs": [],
   "source": []
  }
 ],
 "metadata": {
  "kernelspec": {
   "display_name": "Python 3",
   "language": "python",
   "name": "python3"
  },
  "language_info": {
   "codemirror_mode": {
    "name": "ipython",
    "version": 3
   },
   "file_extension": ".py",
   "mimetype": "text/x-python",
   "name": "python",
   "nbconvert_exporter": "python",
   "pygments_lexer": "ipython3",
   "version": "3.8.5"
  }
 },
 "nbformat": 4,
 "nbformat_minor": 5
}
