{
 "cells": [
  {
   "cell_type": "markdown",
   "id": "60a0da38-ae51-4028-8e3d-515aadbe4ae5",
   "metadata": {},
   "source": [
    "## **Spindle detection**\n",
    "\n",
    "#### **Spindles calculation**\n",
    "**<ul>Define 2 seconds windows</ul>**\n",
    "**<ul>Animal movement using 2.5 cm/s </ul>**\n",
    "**<ul>Theta/delta power ration > 2 </ul>**"
   ]
  },
  {
   "cell_type": "markdown",
   "id": "74ad3e7c-771d-40a3-9d42-9de069317ddf",
   "metadata": {},
   "source": [
    "#### **Import libraries**"
   ]
  },
  {
   "cell_type": "code",
   "execution_count": 1,
   "id": "813df210-ab27-4eff-9aac-3035ba008a37",
   "metadata": {},
   "outputs": [],
   "source": [
    "import sys  \n",
    "sys.path.insert(0, 'D:/Beths/')\n",
    "import os\n",
    "import re\n",
    "import math\n",
    "import pandas as pd\n",
    "import numpy as np\n",
    "import yasa\n",
    "import mne\n",
    "from mne.filter import filter_data, resample\n",
    "import matplotlib.pyplot as plt\n",
    "from scipy import signal\n",
    "from tqdm import tqdm\n",
    "from pandas_profiling import ProfileReport\n",
    "\n",
    "\n",
    "## Import from my files\n",
    "from data_lfp import mne_lfp_Axona, load_lfp_Axona\n",
    "from data_pos import RecPos\n",
    "from bandPower import *\n",
    "\n",
    "import warnings\n",
    "warnings.filterwarnings('ignore')"
   ]
  },
  {
   "cell_type": "markdown",
   "id": "9dad6acd-64aa-4eb8-ae39-cd598b000f95",
   "metadata": {},
   "source": [
    "#### **Reference papers**"
   ]
  },
  {
   "cell_type": "markdown",
   "id": "40f3593e-e6c4-4c64-a06a-1eda7b4a61a0",
   "metadata": {},
   "source": [
    "##### **Detection of slow-wave sleep, sharp-wave ripples and multi-unit activity bursts**\n",
    "\n",
    "Paper: Coordinated Emergence of Hippocampal Replay and Theta Sequences during Post-natal Development: \n",
    "[https://www.sciencedirect.com/science/article/pii/S0960982219300065]\n",
    "\n",
    "The brain states slow-wave sleep (SWS), rapid-eye movement sleep (REM) and awake movement were defined following [22\n",
    "]. A multitaper power spectral density estimate of the hippocampal local field potential (LFP) was derived for **1.6 s windows** , overlapping by 0.8 s (MATLAB function ‘pmtm’). From this, power in the delta and theta bands were calculated in each window. As theta frequency changes during development [18\n",
    "], theta and delta peak frequencies were calculated for each session, defined as the peak frequency of the fast Fourier transform of the LFP, in the bands 5-11Hz (theta) and 1.5-4Hz (delta). **Mean running speed for each 1.6 s bin was also estimated. In the absence of EMG recordings, we could not unequivocally discriminate between slow wave sleep and quiet immmobility, we therefore restricted all analyses to epochs termed ‘rest’.**\n",
    "\n",
    "Rest was defined as epochs with running speed < 2.5cm/s , and theta/delta power ratio < 2 and waking movement as theta/delta power ratio > 2 and speed > 2.5cm/s. \n",
    "Sharp-wave ripples were detected by first filtering the LFP in the band 100-250Hz. \n",
    "The instantaneous power of the filtered LFP was then estimated by calculating the root mean square over 7ms intervals (MATLAB function ‘envelope’ with option ‘rms’). From all LFPs across tetrodes in the CA1 layer, the LFP whose power estimate had the highest standard deviation was then used to define ripple events, as 100ms windows around the peak power, whenever the power was greater than the 99th percentile of all powers in the trial (approximately equal to 4 standard deviations above the mean). Multi-unit activity (MUA) bursts were defined by binning all spikes from CS cells into 1ms bins and smoothing the resulting binned spike train with a Gaussian kernel (s.d. 10ms). MUA events were then defined as crossing of a threshold defined as 3 standard deviations above the mean of the smoothed spike train, with a duration from 100-750ms. Only MUA bursts which temporally overlapped (even in part) with SWR events were included in the replay analysis."
   ]
  },
  {
   "cell_type": "markdown",
   "id": "18eb40dd-606f-45a3-88f2-d0c5687062c5",
   "metadata": {},
   "source": [
    "#### **Open Sleep Files**"
   ]
  },
  {
   "cell_type": "code",
   "execution_count": 2,
   "id": "4cd89a50-b76a-4fa7-8ede-e9556e87ca22",
   "metadata": {},
   "outputs": [],
   "source": [
    "df = pd.read_csv('data_scheme.csv')\n",
    "sleep = df.loc[df.sleep == 1]\n",
    "sleep_files = df.loc[df.sleep == 1, ['folder', 'filename']].agg('/'.join, axis=1).values"
   ]
  },
  {
   "cell_type": "code",
   "execution_count": 3,
   "id": "d49a9488-e989-4b65-af05-c886fdf0bcfe",
   "metadata": {},
   "outputs": [],
   "source": [
    "sleep_files = [file for file in sleep_files if 'awake' not in file.split('_')]\n",
    "sleep_files = [file for file in sleep_files if 'awake.set' not in file.split('_')]\n",
    "filenames = [r.strip().split('/')[-1] for r in sleep_files]\n",
    "sleep = df[df.filename.isin(filenames)]\n",
    "sleep_files = sleep.loc[sleep.sleep == 1, ['folder', 'filename']].agg('/'.join, axis=1).values"
   ]
  },
  {
   "cell_type": "code",
   "execution_count": 4,
   "id": "45a9f332-5aee-45a4-bb4a-9654828b8276",
   "metadata": {},
   "outputs": [
    {
     "data": {
      "image/png": "[encoded data removed]",
      "text/plain": [
       "<Figure size 648x360 with 1 Axes>"
      ]
     },
     "metadata": {
      "needs_background": "light"
     },
     "output_type": "display_data"
    }
   ],
   "source": [
    "ax = sleep['rat'].value_counts().plot(kind='bar',\n",
    "                                    figsize=(9,5),\n",
    "                                    title=\"Number of sleep recordings for each animal.\")\n",
    "ax.set_xlabel(\"Rat ID\")\n",
    "ax.set_ylabel(\"Frequency of recordings\")\n",
    "plt.show()"
   ]
  },
  {
   "cell_type": "code",
   "execution_count": 5,
   "id": "3f1f0166-b61a-48cc-a167-86309a8527c2",
   "metadata": {},
   "outputs": [
    {
     "data": {
      "image/png": "[encoded data removed]",
      "text/plain": [
       "<Figure size 648x360 with 1 Axes>"
      ]
     },
     "metadata": {
      "needs_background": "light"
     },
     "output_type": "display_data"
    }
   ],
   "source": [
    "ax = sleep['treatment'].value_counts().plot(kind='bar',\n",
    "                                    figsize=(9,5),\n",
    "                                    title=\"Treatment numberd in sleep animals.\")\n",
    "ax.set_xlabel(\"Treatment type\")\n",
    "\n",
    "ax.set_ylabel(\"Frequency of recordings\")\n",
    "plt.show()"
   ]
  },
  {
   "cell_type": "markdown",
   "id": "c55cae64-ae08-4dab-b7eb-4dcf21f10b37",
   "metadata": {},
   "source": [
    "##### **Auxiliary functions**"
   ]
  },
  {
   "cell_type": "code",
   "execution_count": 159,
   "id": "dfb5fe9e-f1d7-48f8-8057-27411b3eff62",
   "metadata": {},
   "outputs": [],
   "source": [
    "def bandpower(data, low, high, window_sec = 2, sf = 250, relative_power = True):\n",
    " \n",
    "    from scipy.signal import welch\n",
    "    from scipy.integrate import simps\n",
    "    scale = 1000 \n",
    "    lfp_samples = data * scale\n",
    "    _filter = [1.5, 40]\n",
    "\n",
    "    # Compute the modified periodogram (Welch)\n",
    "    nperseg = int(window_sec * sf)\n",
    "    freqs, psd = welch(lfp_samples, sf, nperseg=nperseg)\n",
    "\n",
    "    # Frequency resolution\n",
    "    freq_res = freqs[1] - freqs[0]\n",
    "\n",
    "    # Find index of band in frequency vector\n",
    "    idx_band = np.logical_and(freqs >= low, freqs <= high)\n",
    "\n",
    "    # Integral approximation of the spectrum using parabola (Simpson's\n",
    "    # rule)\n",
    "    bp = simps(psd[idx_band], dx=freq_res)\n",
    "\n",
    "    idx_band = np.logical_and(freqs >= _filter[0], freqs <= _filter[1])\n",
    "    tp = simps(psd[idx_band], dx=freq_res)\n",
    "\n",
    "    if relative_power:\n",
    "        return bp / tp\n",
    "    return bp\n",
    "\n",
    "\n",
    "def bandpower_ratio(data, win_sec=2):\n",
    "   \n",
    "    b1 = bandpower(data, 1., 4., win_sec)\n",
    "    b2 = bandpower(data, 5., 11., win_sec)\n",
    "    if b1 == b2:\n",
    "        print(\"Error!\")\n",
    "    bp = b1 / b2\n",
    "    return bp\n",
    "\n",
    "\n",
    "def mark_resting(file, mne_data,  tresh=2.5, window_sec = 2): # Mark timestamps were the speed > 2.5 cm/s\n",
    "    ''' Returns ones for the time windows where the animal was moving with a speed smaller than treshold\n",
    "    Inputs:\n",
    "        file(str): filename to be analysed\n",
    "        tresh(float): speed treshold in cm/s\n",
    "        window_sec(int): Window in seconds to define resting epochs\n",
    "    Returns: \n",
    "        resting(arr): 1 (ones) for resting 0 (zeros) for movement\n",
    "    '''\n",
    "    cnt = 0 # debug only\n",
    "    #Calculate movement based on speed treshold\n",
    "    file_resting = []\n",
    "    \n",
    "    pos = RecPos(file)\n",
    "#     mne_data = mne_lfp_Axona(file)\n",
    "    window = window_sec*250\n",
    "    \n",
    "    speed = pos.get_speed()\n",
    "    moving = np.zeros(len(speed)*5)\n",
    "    \n",
    "    for i in range(0, len(speed)): \n",
    "        if speed[i] > tresh:\n",
    "            moving[5*i:5*i+5] = 1\n",
    "            \n",
    "    for data in mne_data.get_data():\n",
    "        result = np.zeros(len(data))\n",
    "        for i in range(0, len(data) - window, window//2):\n",
    "            bp = bandpower_ratio(data[i : i + window], window_sec)\n",
    "            if sum(moving[i : i + window]) == 0 and bp < 2: # running speed < 2.5cm/s , and theta/delta power ratio < 2\n",
    "                result[i : i + window] = 1 #ones for resting periods\n",
    "#                 cnt+=1 # DEBUG\n",
    "        file_resting.append(result)\n",
    "#     print(f'Total epochs for window = {window_sec}s and tresh = {tresh}cm/s is: {cnt} epochs') # DEBUG\n",
    "    return np.asarray(file_resting)\n",
    "\n",
    "    \n",
    "def create_events(record, events):\n",
    "    '''Create events on MNE object\n",
    "    Inputs:\n",
    "        record(mne_object): recording to add events\n",
    "        events_time(2D np array): array 0,1 with same lenght of recording dimension (1, lengt(record))\n",
    "    output: \n",
    "    record(mne_object): Record with events added\n",
    "    '''\n",
    "    events = np.reshape(events, (1,-1))\n",
    "    try:\n",
    "        assert len(record.times) == events.shape[1]\n",
    "        stim_data = events\n",
    "        info = mne.create_info(['STI'], record.info['sfreq'], ['stim'])\n",
    "        stim_raw = mne.io.RawArray(stim_data, info)\n",
    "        record.add_channels([stim_raw], force_update_info=True)\n",
    "    except AssertionError as error:\n",
    "        print(error)\n",
    "        print('The lenght of events needs to be equal to record lenght.')\n",
    "    return record\n",
    "\n",
    "def process_spindles(mne_data):\n",
    "    ''''''    \n",
    "    sp = yasa.spindles_detect(mne_data, sf=250, thresh={'rel_pow': 0.2, 'corr': 0.65, 'rms': 2.5}, freq_sp= (12, 15), multi_only=True, verbose='error')\n",
    "    df = sp.summary()\n",
    "    return df\n",
    "\n",
    "def spindles_exclude_resting(mne_data, resting, delta = 1):\n",
    "    resting_df = pd.DataFrame(resting.T, columns = ['ch_'+str(1+i) for i in range(0, len(mne_data.info['ch_names']))])\n",
    "    resting_df['time'] = [i*0.004 for i in range(0, len(mne_data))]\n",
    "    resting_df = resting_df.set_index('time')\n",
    "    spindles_df = process_spindles(mne_data)\n",
    "    cnt = 0\n",
    "    for channel in spindles_df.Channel.unique():  \n",
    "        sp_times = spindles_df.loc[spindles_df.Channel == channel][['Start', 'End']].values\n",
    "        for time in sp_times:\n",
    "            try:\n",
    "                if sum(resting_df[channel][time[0] : time[1]]):\n",
    "                    spindles_df[(spindles_df.Channel == channel) & (spindles_df.Start == time[0]) & (spindles_df.End == time[1])] = np.nan\n",
    "            except:\n",
    "                print(f'Error in channel {channel}')\n",
    "#     len_before = len(spindles_df)\n",
    "#     spindles_df = spindles_df.dropna()\n",
    "#     print(f'Number of filtered spindles: {len_before - len(spindles_df)}')\n",
    "    return spindles_df"
   ]
  },
  {
   "cell_type": "markdown",
   "id": "d375bdd7-55b3-4883-8e08-c456bc42f579",
   "metadata": {},
   "source": [
    "##### **Divide files into treatment groups**"
   ]
  },
  {
   "cell_type": "code",
   "execution_count": 7,
   "id": "dbdb27c1-5e8d-4efb-9d35-9c9bed8f894e",
   "metadata": {},
   "outputs": [
    {
     "name": "stdout",
     "output_type": "stream",
     "text": [
      "Muscimol: 6 recordings in 1 animals\n",
      "Control: 23 recordings in 9 animals\n",
      "Lesion: 12 recordings in 4 animals\n"
     ]
    }
   ],
   "source": [
    "musc = sleep.loc[sleep.treatment == 'muscimol']\n",
    "control = sleep.loc[sleep.treatment == 'Control']\n",
    "lesion = sleep.loc[sleep.treatment == 'lesion']\n",
    "print(f'Muscimol: {len(musc)} recordings in {len(musc.rat.unique())} animals')\n",
    "print(f'Control: {len(control)} recordings in {len(control.rat.unique())} animals')\n",
    "print(f'Lesion: {len(lesion)} recordings in {len(lesion.rat.unique())} animals')\n",
    "msc_files = sleep.loc[sleep.treatment == 'muscimol', ['folder', 'filename']].agg('/'.join, axis=1).values\n",
    "cnt_files = sleep.loc[sleep.treatment == 'Control', ['folder', 'filename']].agg('/'.join, axis=1).values\n",
    "les_files = sleep.loc[sleep.treatment == 'lesion', ['folder', 'filename']].agg('/'.join, axis=1).values"
   ]
  },
  {
   "cell_type": "markdown",
   "id": "588f128a-0653-4d39-aaa3-8a8ef19a4cc5",
   "metadata": {},
   "source": [
    "#### **Debuging**"
   ]
  },
  {
   "cell_type": "markdown",
   "id": "f6192bfc-151c-4a8d-bea9-d9a8f4b453af",
   "metadata": {},
   "source": [
    "#### Test mark_resting function:\n"
   ]
  },
  {
   "cell_type": "code",
   "execution_count": 146,
   "id": "7b0876ec-7bb0-49ab-9561-91a21e87e0c0",
   "metadata": {},
   "outputs": [],
   "source": [
    "# file = cnt_files[0]"
   ]
  },
  {
   "cell_type": "code",
   "execution_count": 148,
   "id": "380c0db4-2ef9-424d-a607-807178fe6b78",
   "metadata": {},
   "outputs": [],
   "source": [
    "# mne_data = mne_lfp_Axona(file)\n",
    "# m1 = mark_resting(file, mne_data, tresh=2.5, window_sec = 2) #(1 for rest, 0 for movement)\n",
    "# m2 = mark_resting(file, mne_data, tresh=2.5, window_sec = 5)\n",
    "# m3 = mark_resting(file, mne_data, tresh=4.5, window_sec = 2)"
   ]
  },
  {
   "cell_type": "markdown",
   "id": "e5466e12-c477-45c7-bce5-f871a05d8ecf",
   "metadata": {},
   "source": [
    "#### Test spindles_exclude_movement function:"
   ]
  },
  {
   "cell_type": "code",
   "execution_count": 151,
   "id": "1b9d5128-44e3-4eaa-ac5e-0d011b321f2e",
   "metadata": {},
   "outputs": [
    {
     "name": "stdout",
     "output_type": "stream",
     "text": [
      "Number of filtered spindles: 710\n",
      "Number of filtered spindles: 674\n"
     ]
    }
   ],
   "source": [
    "# mne_data = mne_lfp_Axona(file)\n",
    "# resting = mark_resting(file, mne_data, tresh=10.5, window_sec = 1)\n",
    "# df_25 = (spindles_exclude_movement(mne_data, resting))\n",
    "# resting1 = mark_resting(file, mne_data, tresh= 2.5, window_sec = 2)\n",
    "# df_45 = (spindles_exclude_movement(mne_data, resting1))"
   ]
  },
  {
   "cell_type": "code",
   "execution_count": 78,
   "id": "effb84a9-51f3-4ca5-a48e-a0535b4a5e99",
   "metadata": {},
   "outputs": [],
   "source": [
    "resting_df = pd.DataFrame(resting.T, columns = ['ch_'+str(1+i) for i in range(0, len(mne_data.info['ch_names']))])\n",
    "resting_df['time'] = [i*0.004 for i in range(0, len(mne_data))]\n",
    "resting_df = resting_df.set_index('time')\n",
    "spindles_df = process_spindles(mne_data)\n"
   ]
  },
  {
   "cell_type": "code",
   "execution_count": 160,
   "id": "7e451385-914c-4715-9abb-6c5ff2b85ae0",
   "metadata": {},
   "outputs": [
    {
     "name": "stderr",
     "output_type": "stream",
     "text": [
      " 30%|███       | 7/23 [03:54<08:53, 33.34s/it]"
     ]
    },
    {
     "name": "stdout",
     "output_type": "stream",
     "text": [
      "Error in channel ch_32\n",
      "Error in channel ch_32\n",
      "Error in channel ch_32\n",
      "Error in channel ch_32\n",
      "Error in channel ch_32\n",
      "Error in channel ch_32\n",
      "Error in channel ch_32\n",
      "Error in channel ch_32\n",
      "Error in channel ch_32\n",
      "Error in channel ch_32\n",
      "Error in channel ch_32\n",
      "Error in channel ch_32\n"
     ]
    },
    {
     "name": "stderr",
     "output_type": "stream",
     "text": [
      " 39%|███▉      | 9/23 [05:00<07:42, 33.06s/it]"
     ]
    },
    {
     "name": "stdout",
     "output_type": "stream",
     "text": [
      "Error in channel ch_32\n"
     ]
    },
    {
     "name": "stderr",
     "output_type": "stream",
     "text": [
      " 78%|███████▊  | 18/23 [09:54<02:39, 31.92s/it]"
     ]
    },
    {
     "name": "stdout",
     "output_type": "stream",
     "text": [
      "Error in channel ch_31\n",
      "Error in channel ch_31\n",
      "Error in channel ch_31\n",
      "Error in channel ch_31\n",
      "Error in channel ch_31\n",
      "Error in channel ch_31\n",
      "Error in channel ch_31\n",
      "Error in channel ch_31\n",
      "Error in channel ch_31\n",
      "Error in channel ch_31\n",
      "Error in channel ch_31\n",
      "Error in channel ch_31\n"
     ]
    },
    {
     "name": "stderr",
     "output_type": "stream",
     "text": [
      " 83%|████████▎ | 19/23 [10:23<02:04, 31.14s/it]"
     ]
    },
    {
     "name": "stdout",
     "output_type": "stream",
     "text": [
      "Error in channel ch_31\n",
      "Error in channel ch_31\n",
      "Error in channel ch_31\n",
      "Error in channel ch_31\n",
      "Error in channel ch_31\n",
      "Error in channel ch_31\n",
      "Error in channel ch_31\n",
      "Error in channel ch_31\n",
      "Error in channel ch_31\n",
      "Error in channel ch_31\n",
      "Error in channel ch_32\n"
     ]
    },
    {
     "name": "stderr",
     "output_type": "stream",
     "text": [
      "100%|██████████| 23/23 [12:37<00:00, 32.92s/it]\n"
     ]
    }
   ],
   "source": [
    "dfs = []\n",
    "for file in tqdm(cnt_files):\n",
    "    mne_data = mne_lfp_Axona(file)\n",
    "    resting = mark_resting(file, mne_data,  tresh=2.5, window_sec = 2)\n",
    "    dfs.append(spindles_exclude_resting(mne_data, resting))\n",
    "control_df = pd.concat(dfs)  "
   ]
  },
  {
   "cell_type": "code",
   "execution_count": 161,
   "id": "9960400f-f278-41a6-955e-3698fd9310ba",
   "metadata": {},
   "outputs": [
    {
     "name": "stderr",
     "output_type": "stream",
     "text": [
      "100%|██████████| 6/6 [03:19<00:00, 33.18s/it]\n"
     ]
    }
   ],
   "source": [
    "dfs = []\n",
    "for file in tqdm(msc_files):\n",
    "    mne_data = mne_lfp_Axona(file)\n",
    "    resting = mark_resting(file, mne_data,  tresh=2.5, window_sec = 2)\n",
    "    dfs.append(spindles_exclude_resting(mne_data, resting))\n",
    "musc_df = pd.concat(dfs)  "
   ]
  },
  {
   "cell_type": "code",
   "execution_count": 162,
   "id": "959187db-5aad-4296-b995-076007a21c55",
   "metadata": {},
   "outputs": [
    {
     "name": "stderr",
     "output_type": "stream",
     "text": [
      " 17%|█▋        | 2/12 [00:58<04:58, 29.86s/it]20-May-21 16:40:22 | ERROR | Wrong data amplitude for ch_17 (trimmed STD = 0.000). Unit of data MUST be uV! Channel will be skipped.\n",
      "20-May-21 16:40:22 | ERROR | Wrong data amplitude for ch_18 (trimmed STD = 0.000). Unit of data MUST be uV! Channel will be skipped.\n",
      "20-May-21 16:40:22 | ERROR | Wrong data amplitude for ch_19 (trimmed STD = 0.000). Unit of data MUST be uV! Channel will be skipped.\n",
      "20-May-21 16:40:22 | ERROR | Wrong data amplitude for ch_20 (trimmed STD = 0.000). Unit of data MUST be uV! Channel will be skipped.\n",
      "20-May-21 16:40:22 | ERROR | Wrong data amplitude for ch_21 (trimmed STD = 0.000). Unit of data MUST be uV! Channel will be skipped.\n",
      "20-May-21 16:40:22 | ERROR | Wrong data amplitude for ch_22 (trimmed STD = 0.000). Unit of data MUST be uV! Channel will be skipped.\n",
      "20-May-21 16:40:22 | ERROR | Wrong data amplitude for ch_23 (trimmed STD = 0.000). Unit of data MUST be uV! Channel will be skipped.\n",
      "20-May-21 16:40:22 | ERROR | Wrong data amplitude for ch_24 (trimmed STD = 0.000). Unit of data MUST be uV! Channel will be skipped.\n",
      "20-May-21 16:40:22 | ERROR | Wrong data amplitude for ch_25 (trimmed STD = 0.000). Unit of data MUST be uV! Channel will be skipped.\n",
      "20-May-21 16:40:22 | ERROR | Wrong data amplitude for ch_26 (trimmed STD = 0.000). Unit of data MUST be uV! Channel will be skipped.\n",
      "20-May-21 16:40:22 | ERROR | Wrong data amplitude for ch_27 (trimmed STD = 0.000). Unit of data MUST be uV! Channel will be skipped.\n",
      "20-May-21 16:40:22 | ERROR | Wrong data amplitude for ch_28 (trimmed STD = 0.000). Unit of data MUST be uV! Channel will be skipped.\n",
      "20-May-21 16:40:22 | ERROR | Wrong data amplitude for ch_29 (trimmed STD = 0.000). Unit of data MUST be uV! Channel will be skipped.\n",
      "20-May-21 16:40:22 | ERROR | Wrong data amplitude for ch_30 (trimmed STD = 0.000). Unit of data MUST be uV! Channel will be skipped.\n",
      "20-May-21 16:40:22 | ERROR | Wrong data amplitude for ch_31 (trimmed STD = 0.000). Unit of data MUST be uV! Channel will be skipped.\n",
      "20-May-21 16:40:22 | ERROR | Wrong data amplitude for ch_32 (trimmed STD = 0.000). Unit of data MUST be uV! Channel will be skipped.\n",
      " 25%|██▌       | 3/12 [01:28<04:31, 30.15s/it]20-May-21 16:40:53 | ERROR | Wrong data amplitude for ch_17 (trimmed STD = 0.000). Unit of data MUST be uV! Channel will be skipped.\n",
      "20-May-21 16:40:53 | ERROR | Wrong data amplitude for ch_18 (trimmed STD = 0.000). Unit of data MUST be uV! Channel will be skipped.\n",
      "20-May-21 16:40:53 | ERROR | Wrong data amplitude for ch_19 (trimmed STD = 0.000). Unit of data MUST be uV! Channel will be skipped.\n",
      "20-May-21 16:40:53 | ERROR | Wrong data amplitude for ch_20 (trimmed STD = 0.000). Unit of data MUST be uV! Channel will be skipped.\n",
      "20-May-21 16:40:53 | ERROR | Wrong data amplitude for ch_21 (trimmed STD = 0.000). Unit of data MUST be uV! Channel will be skipped.\n",
      "20-May-21 16:40:53 | ERROR | Wrong data amplitude for ch_22 (trimmed STD = 0.000). Unit of data MUST be uV! Channel will be skipped.\n",
      "20-May-21 16:40:53 | ERROR | Wrong data amplitude for ch_23 (trimmed STD = 0.000). Unit of data MUST be uV! Channel will be skipped.\n",
      "20-May-21 16:40:53 | ERROR | Wrong data amplitude for ch_24 (trimmed STD = 0.000). Unit of data MUST be uV! Channel will be skipped.\n",
      "20-May-21 16:40:53 | ERROR | Wrong data amplitude for ch_25 (trimmed STD = 0.000). Unit of data MUST be uV! Channel will be skipped.\n",
      "20-May-21 16:40:53 | ERROR | Wrong data amplitude for ch_26 (trimmed STD = 0.000). Unit of data MUST be uV! Channel will be skipped.\n",
      "20-May-21 16:40:53 | ERROR | Wrong data amplitude for ch_27 (trimmed STD = 0.000). Unit of data MUST be uV! Channel will be skipped.\n",
      "20-May-21 16:40:53 | ERROR | Wrong data amplitude for ch_28 (trimmed STD = 0.000). Unit of data MUST be uV! Channel will be skipped.\n",
      "20-May-21 16:40:53 | ERROR | Wrong data amplitude for ch_29 (trimmed STD = 0.000). Unit of data MUST be uV! Channel will be skipped.\n",
      "20-May-21 16:40:53 | ERROR | Wrong data amplitude for ch_30 (trimmed STD = 0.000). Unit of data MUST be uV! Channel will be skipped.\n",
      "20-May-21 16:40:53 | ERROR | Wrong data amplitude for ch_31 (trimmed STD = 0.000). Unit of data MUST be uV! Channel will be skipped.\n",
      "20-May-21 16:40:53 | ERROR | Wrong data amplitude for ch_32 (trimmed STD = 0.000). Unit of data MUST be uV! Channel will be skipped.\n",
      " 33%|███▎      | 4/12 [02:00<04:07, 30.89s/it]20-May-21 16:41:25 | ERROR | Wrong data amplitude for ch_17 (trimmed STD = 0.000). Unit of data MUST be uV! Channel will be skipped.\n",
      "20-May-21 16:41:25 | ERROR | Wrong data amplitude for ch_18 (trimmed STD = 0.000). Unit of data MUST be uV! Channel will be skipped.\n",
      "20-May-21 16:41:25 | ERROR | Wrong data amplitude for ch_19 (trimmed STD = 0.000). Unit of data MUST be uV! Channel will be skipped.\n",
      "20-May-21 16:41:25 | ERROR | Wrong data amplitude for ch_20 (trimmed STD = 0.000). Unit of data MUST be uV! Channel will be skipped.\n",
      "20-May-21 16:41:25 | ERROR | Wrong data amplitude for ch_21 (trimmed STD = 0.000). Unit of data MUST be uV! Channel will be skipped.\n",
      "20-May-21 16:41:25 | ERROR | Wrong data amplitude for ch_22 (trimmed STD = 0.000). Unit of data MUST be uV! Channel will be skipped.\n",
      "20-May-21 16:41:25 | ERROR | Wrong data amplitude for ch_23 (trimmed STD = 0.000). Unit of data MUST be uV! Channel will be skipped.\n",
      "20-May-21 16:41:25 | ERROR | Wrong data amplitude for ch_24 (trimmed STD = 0.000). Unit of data MUST be uV! Channel will be skipped.\n",
      "20-May-21 16:41:25 | ERROR | Wrong data amplitude for ch_25 (trimmed STD = 0.000). Unit of data MUST be uV! Channel will be skipped.\n",
      "20-May-21 16:41:25 | ERROR | Wrong data amplitude for ch_26 (trimmed STD = 0.000). Unit of data MUST be uV! Channel will be skipped.\n",
      "20-May-21 16:41:25 | ERROR | Wrong data amplitude for ch_27 (trimmed STD = 0.000). Unit of data MUST be uV! Channel will be skipped.\n",
      "20-May-21 16:41:25 | ERROR | Wrong data amplitude for ch_28 (trimmed STD = 0.000). Unit of data MUST be uV! Channel will be skipped.\n",
      "20-May-21 16:41:25 | ERROR | Wrong data amplitude for ch_29 (trimmed STD = 0.000). Unit of data MUST be uV! Channel will be skipped.\n",
      "20-May-21 16:41:25 | ERROR | Wrong data amplitude for ch_30 (trimmed STD = 0.000). Unit of data MUST be uV! Channel will be skipped.\n",
      "20-May-21 16:41:25 | ERROR | Wrong data amplitude for ch_31 (trimmed STD = 0.000). Unit of data MUST be uV! Channel will be skipped.\n",
      "20-May-21 16:41:25 | ERROR | Wrong data amplitude for ch_32 (trimmed STD = 0.000). Unit of data MUST be uV! Channel will be skipped.\n",
      "100%|██████████| 12/12 [06:28<00:00, 32.34s/it]\n"
     ]
    }
   ],
   "source": [
    "dfs = []\n",
    "for file in tqdm(les_files):\n",
    "    mne_data = mne_lfp_Axona(file)\n",
    "    resting = mark_resting(file, mne_data,  tresh=2.5, window_sec = 2)\n",
    "    dfs.append(spindles_exclude_resting(mne_data, resting))\n",
    "lesion_df = pd.concat(dfs)  "
   ]
  },
  {
   "cell_type": "code",
   "execution_count": 163,
   "id": "981c6b1a-8009-4d13-a692-fa1ed0d9b20c",
   "metadata": {},
   "outputs": [],
   "source": [
    "profile_control = ProfileReport(control_df, title=\"Pandas Profiling Report\")\n",
    "profile_lesion = ProfileReport(lesion_df, title=\"Pandas Profiling Report\")\n",
    "profile_musc = ProfileReport(musc_df, title=\"Pandas Profiling Report\")"
   ]
  },
  {
   "cell_type": "code",
   "execution_count": 164,
   "id": "d342b99a-ecd2-4714-a4fa-0481b9ca7fac",
   "metadata": {},
   "outputs": [
    {
     "data": {
      "application/vnd.jupyter.widget-view+json": {
       "model_id": "853c8e66088f45b9a89a0ffa1c77255b",
       "version_major": 2,
       "version_minor": 0
      },
      "text/plain": [
       "Summarize dataset:   0%|          | 0/27 [00:00<?, ?it/s]"
      ]
     },
     "metadata": {},
     "output_type": "display_data"
    },
    {
     "data": {
      "application/vnd.jupyter.widget-view+json": {
       "model_id": "25a86800d6e04d4e9801344b936ac736",
       "version_major": 2,
       "version_minor": 0
      },
      "text/plain": [
       "Generate report structure:   0%|          | 0/1 [00:00<?, ?it/s]"
      ]
     },
     "metadata": {},
     "output_type": "display_data"
    },
    {
     "data": {
      "application/vnd.jupyter.widget-view+json": {
       "model_id": "5b0cfbe7214545bf862311cf30192efb",
       "version_major": 2,
       "version_minor": 0
      },
      "text/plain": [
       "Render HTML:   0%|          | 0/1 [00:00<?, ?it/s]"
      ]
     },
     "metadata": {},
     "output_type": "display_data"
    },
    {
     "data": {
      "application/vnd.jupyter.widget-view+json": {
       "model_id": "2408bcbfc3504c37814eb498db7e7438",
       "version_major": 2,
       "version_minor": 0
      },
      "text/plain": [
       "Export report to file:   0%|          | 0/1 [00:00<?, ?it/s]"
      ]
     },
     "metadata": {},
     "output_type": "display_data"
    },
    {
     "data": {
      "application/vnd.jupyter.widget-view+json": {
       "model_id": "8ac8a3d91375441fb8f530c0a22e4aff",
       "version_major": 2,
       "version_minor": 0
      },
      "text/plain": [
       "Summarize dataset:   0%|          | 0/27 [00:00<?, ?it/s]"
      ]
     },
     "metadata": {},
     "output_type": "display_data"
    },
    {
     "data": {
      "application/vnd.jupyter.widget-view+json": {
       "model_id": "a881d85b99f8439aa28477815216b221",
       "version_major": 2,
       "version_minor": 0
      },
      "text/plain": [
       "Generate report structure:   0%|          | 0/1 [00:00<?, ?it/s]"
      ]
     },
     "metadata": {},
     "output_type": "display_data"
    },
    {
     "data": {
      "application/vnd.jupyter.widget-view+json": {
       "model_id": "446590f9e13a4d269bbef7e388495c9a",
       "version_major": 2,
       "version_minor": 0
      },
      "text/plain": [
       "Render HTML:   0%|          | 0/1 [00:00<?, ?it/s]"
      ]
     },
     "metadata": {},
     "output_type": "display_data"
    },
    {
     "data": {
      "application/vnd.jupyter.widget-view+json": {
       "model_id": "e258a7a38b69431788d0100ec2bb7395",
       "version_major": 2,
       "version_minor": 0
      },
      "text/plain": [
       "Export report to file:   0%|          | 0/1 [00:00<?, ?it/s]"
      ]
     },
     "metadata": {},
     "output_type": "display_data"
    },
    {
     "data": {
      "application/vnd.jupyter.widget-view+json": {
       "model_id": "431844e2eb854cb691f8af62bd7cac6f",
       "version_major": 2,
       "version_minor": 0
      },
      "text/plain": [
       "Summarize dataset:   0%|          | 0/27 [00:00<?, ?it/s]"
      ]
     },
     "metadata": {},
     "output_type": "display_data"
    },
    {
     "data": {
      "application/vnd.jupyter.widget-view+json": {
       "model_id": "ade1884ea08d46b09e067281f2a47059",
       "version_major": 2,
       "version_minor": 0
      },
      "text/plain": [
       "Generate report structure:   0%|          | 0/1 [00:00<?, ?it/s]"
      ]
     },
     "metadata": {},
     "output_type": "display_data"
    },
    {
     "data": {
      "application/vnd.jupyter.widget-view+json": {
       "model_id": "092cf737820d4b55ba6bb9a87f5a3877",
       "version_major": 2,
       "version_minor": 0
      },
      "text/plain": [
       "Render HTML:   0%|          | 0/1 [00:00<?, ?it/s]"
      ]
     },
     "metadata": {},
     "output_type": "display_data"
    },
    {
     "data": {
      "application/vnd.jupyter.widget-view+json": {
       "model_id": "e1b1541817d04ebb822428595fe0c9fb",
       "version_major": 2,
       "version_minor": 0
      },
      "text/plain": [
       "Export report to file:   0%|          | 0/1 [00:00<?, ?it/s]"
      ]
     },
     "metadata": {},
     "output_type": "display_data"
    }
   ],
   "source": [
    "profile_lesion.to_file(\"lesion1.html\")\n",
    "profile_musc.to_file(\"muscimol1.html\")\n",
    "profile_control.to_file(\"control1.html\")"
   ]
  },
  {
   "cell_type": "code",
   "execution_count": null,
   "id": "f4b8f9c5-03c7-436e-9270-3b40eb2eb747",
   "metadata": {},
   "outputs": [],
   "source": []
  },
  {
   "cell_type": "code",
   "execution_count": null,
   "id": "9609c477-9d96-429f-b2fc-d4957d4137a5",
   "metadata": {},
   "outputs": [],
   "source": []
  },
  {
   "cell_type": "code",
   "execution_count": null,
   "id": "6e42eb18-0de9-4654-9e98-0dcc13ef4e49",
   "metadata": {},
   "outputs": [],
   "source": []
  },
  {
   "cell_type": "code",
   "execution_count": null,
   "id": "86908d77-8c04-4e45-a819-8a4b9f7b0ea2",
   "metadata": {},
   "outputs": [],
   "source": []
  },
  {
   "cell_type": "code",
   "execution_count": null,
   "id": "2a9e9b60-f79b-41dc-8ad5-051cbc49be80",
   "metadata": {},
   "outputs": [],
   "source": []
  },
  {
   "cell_type": "code",
   "execution_count": null,
   "id": "94779e68-3b17-456a-ad63-4598297be710",
   "metadata": {},
   "outputs": [],
   "source": [
    "ax = plt.figure(figsize=(12, 4))\n",
    "plt.specgram(data[0:50000], NFFT=500, Fs=250., noverlap=250  ,cmap='jet_r')\n",
    "plt.show()"
   ]
  },
  {
   "cell_type": "code",
   "execution_count": null,
   "id": "d6a8cba4-a15d-410c-a59b-97b70eb7f6fa",
   "metadata": {},
   "outputs": [],
   "source": [
    "test_data = msc_files[0]\n",
    "data = mne_lfp_Axona(test_data)\n",
    "sp = yasa.spindles_detect(data, 250., ch_names=['ch_1'], thresh={'rel_pow': 0.2, 'corr': 0.65, 'rms': 2.5}, freq_sp= (12, 15), multi_only=True, verbose='error')"
   ]
  },
  {
   "cell_type": "code",
   "execution_count": null,
   "id": "637d8707-d3ae-4a17-8bb4-ee4fc43780d9",
   "metadata": {},
   "outputs": [],
   "source": [
    "df = sp.summary()"
   ]
  },
  {
   "cell_type": "code",
   "execution_count": null,
   "id": "c9ee31bd-808a-4d00-9fa4-1d16a30e3103",
   "metadata": {},
   "outputs": [],
   "source": [
    "ch1 = df.loc[df.Channel == 'ch_1']\n",
    "ch2 = df.loc[df.Channel == 'ch_2']"
   ]
  },
  {
   "cell_type": "code",
   "execution_count": null,
   "id": "a2356cb2-f65a-4ed4-8d24-d657815389a5",
   "metadata": {},
   "outputs": [],
   "source": [
    "print(f'Ch1 oscilations mean: {ch1.Oscillations.mean():.2f}, std: {ch1.Oscillations.std():.2f}')\n",
    "print(f'Ch2 oscilations mean: {ch2.Oscillations.mean():.2f}, std: {ch2.Oscillations.std():.2f}')"
   ]
  },
  {
   "cell_type": "code",
   "execution_count": null,
   "id": "0ae2a1e3-74d2-402d-82ed-10d10a0863ca",
   "metadata": {},
   "outputs": [],
   "source": [
    "ch4 = df.loc[df.Channel == 'ch_4']\n",
    "ch5 = df.loc[df.Channel == 'ch_5']"
   ]
  },
  {
   "cell_type": "code",
   "execution_count": null,
   "id": "bd88289a-2dcb-4ff0-82b3-8c539192643f",
   "metadata": {},
   "outputs": [],
   "source": [
    "print(f'Ch4 oscilations mean: {ch4.Oscillations.mean():.2f}, std: {ch4.Oscillations.std():.2f}')\n",
    "print(f'Ch5 oscilations mean: {ch5.Oscillations.mean():.2f}, std: {ch5.Oscillations.std():.2f}')"
   ]
  },
  {
   "cell_type": "code",
   "execution_count": null,
   "id": "a959a745-8ed8-4ee9-8816-91150ec8d6f6",
   "metadata": {},
   "outputs": [],
   "source": [
    "sps = process_spindles(msc_files, channel_names = ['ch_1'])"
   ]
  },
  {
   "cell_type": "code",
   "execution_count": null,
   "id": "0632294b-5dc6-4710-928e-45b9ab23a0df",
   "metadata": {},
   "outputs": [],
   "source": [
    "sps[0].summary()"
   ]
  },
  {
   "cell_type": "code",
   "execution_count": null,
   "id": "28e8dbdf-1e76-434d-bc74-f11c7d2e0171",
   "metadata": {},
   "outputs": [],
   "source": [
    "# Load the data\n",
    "data = mne_lfp_Axona(sleep_files[13])\n",
    "data = data.filter(l_freq=10, h_freq = 16,  method='fir',verbose=0).copy()"
   ]
  },
  {
   "cell_type": "code",
   "execution_count": null,
   "id": "daecd4b6-9462-4794-b2da-6b322bf1123d",
   "metadata": {},
   "outputs": [],
   "source": [
    "data.info\n"
   ]
  },
  {
   "cell_type": "markdown",
   "id": "7529398e-924e-4f7c-90d3-6715396264ae",
   "metadata": {},
   "source": [
    "**Spindle Detection and Verification** [https://academic.oup.com/sleep/article/39/5/1069/2454043?login=true#125103895]\n",
    "\n",
    "We developed an algorithm to automatically detect sleep spindle events in line with previous studies.(20,39) LFP raw data was resampled to 1,000 Hz, band-pass filtered (using a zero-phase, second order, Infinite Impulse Response Butterworth filter) between 10–16 Hz and the instantaneous amplitude was extracted via the Hilbert transform. Then, two thresholds were set relatively to the mean band-pass signal during NREM sleep: (1) a “detection threshold” (+2 SD above the mean) identified events as potential spindles, and (2) a “noise threshold” (+0.2 SD above the mean) was used to define the start and end of sleep spindle event. To verify specificity for sleep spindles (versus broadband power increases), we excluded any putative spindle event whose instantaneous amplitude in a control frequency band (20–30 Hz) exceeded a predefined threshold of +4.5 SD above the mean. Finally an event qualified as a spindle if its duration was between 0.5 and 2.5 sec. It should be emphasized that the specific parameters of the spindle detection algorithm (e.g., frequency range, filter settings, thresholds) were optimized after extensive visual inspection to minimize false detections, and a wide range of parameters yielded similar detections and overall results (data not shown). Power spectral density (Figure 2B) was computed on 350-msec time windows centered on spindle peaks or random time-intervals in NREM sleep."
   ]
  },
  {
   "cell_type": "markdown",
   "id": "595a65cd-47d0-4dbd-b2c2-9eef90baa50f",
   "metadata": {},
   "source": [
    "#### **Calculate Welch's PSD**\n",
    "\n",
    "The gold-standard and most widely-used method to calculate the power spectral density (PSD) of EEG data is the Welch's sliding periodogram, which is implemented in SciPy.\n",
    "\n",
    "The Welch's method improves the accuracy of the classic periodogram. The reason is simple: EEG data are always time-varying, meaning that if you look at a 30 seconds of EEG data, it is very (very) unlikely that the signal will looks like a perfect sum of pure sines. Rather, the spectral content of the EEG changes over time, constantly modified by the neuronal activity at play under the scalp. Problem is, to return a true spectral estimate, a classic periodogram requires the spectral content of the signal to be stationnary (i.e. time-unvarying) over the time period considered. Because it is never the case, the periodogram is generally biased and contains way too much variance. By averaging the periodograms obtained over short segments of the windows, the Welch's method allows to drastically reduce this variance. This comes at the cost, however, of a lower frequency resolution. The frequency resolution in Welch's method is defined by the window length, such that $F = 1 / t$, with $t$ being the window length in seconds. In other words, a 4-sec sliding window will give a frequency resolution of 1 / 4 = 0.25 Hz.\n",
    "\n",
    "How do we define the optimal window duration then? A commonly used approach is to take a window sufficiently long to encompasses at least two full cycles of the lowest frequency of interest. So for instance, if our lowest frequency of interest is 1 Hz so we will choose a window of 2 / 1 = 2 seconds.\n",
    "\n",
    "Note that in the code below, I use a median average of all the resulting sliding windows. Indeed, this may result in less biased and more accurate PSD as explained in this "
   ]
  }
 ],
 "metadata": {
  "kernelspec": {
   "display_name": "Python 3",
   "language": "python",
   "name": "python3"
  },
  "language_info": {
   "codemirror_mode": {
    "name": "ipython",
    "version": 3
   },
   "file_extension": ".py",
   "mimetype": "text/x-python",
   "name": "python",
   "nbconvert_exporter": "python",
   "pygments_lexer": "ipython3",
   "version": "3.8.5"
  }
 },
 "nbformat": 4,
 "nbformat_minor": 5
}
